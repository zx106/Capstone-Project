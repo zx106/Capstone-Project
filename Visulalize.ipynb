{
  "cells": [
    {
      "cell_type": "code",
      "execution_count": null,
      "metadata": {
        "id": "wiG0NNmvZI_j"
      },
      "outputs": [],
      "source": [
        "# import modules \n",
        "import pandas as pd\n",
        "import numpy as np\n"
      ]
    },
    {
      "cell_type": "code",
      "source": [
        "from google.colab import drive\n",
        "from google.colab import drive \n",
        "drive.mount('/drive')\n",
        "#new_datasets_sum.to_csv(\"/drive/My Drive/Healthcare UROP/Fall 2022/ipo_exit/MA_transformed.csv\")"
      ],
      "metadata": {
        "colab": {
          "base_uri": "https://localhost:8080/"
        },
        "id": "-J9HdqRuz_o1",
        "outputId": "94713e19-1378-4ac5-dd8c-8cea28401ceb"
      },
      "execution_count": null,
      "outputs": [
        {
          "output_type": "stream",
          "name": "stdout",
          "text": [
            "Mounted at /drive\n"
          ]
        }
      ]
    },
    {
      "cell_type": "code",
      "source": [
        "combined=pd.read_csv(\"/drive/My Drive/Healthcare UROP/Fall 2022/all.csv\")"
      ],
      "metadata": {
        "id": "smX1sqYo0wUy"
      },
      "execution_count": null,
      "outputs": []
    },
    {
      "cell_type": "code",
      "source": [
        "\n",
        "us, cs=np.unique(list(combined[\"last financing deal type\"]), return_counts=True)\n",
        "list_col=list(us)\n",
        "list_col"
      ],
      "metadata": {
        "colab": {
          "base_uri": "https://localhost:8080/"
        },
        "id": "Qma0YmSw4KTn",
        "outputId": "aa57809d-2b8c-42f8-aeea-3629450af55f"
      },
      "execution_count": null,
      "outputs": [
        {
          "output_type": "execute_result",
          "data": {
            "text/plain": [
              "['Accelerator/Incubator',\n",
              " 'Acquisition Financing',\n",
              " 'Angel (individual)',\n",
              " 'Bankruptcy',\n",
              " 'Bankruptcy: Admin/Reorg',\n",
              " 'Bankruptcy: Liquidation',\n",
              " 'Buyout/LBO',\n",
              " 'Corporate',\n",
              " 'Corporate Asset Purchase',\n",
              " 'Debt',\n",
              " 'Debt - General',\n",
              " 'Debt - PPP',\n",
              " 'Debt Refinancing',\n",
              " 'Dividend Recapitalization',\n",
              " 'Early Stage VC',\n",
              " 'Equity Crowdfunding',\n",
              " 'Grant',\n",
              " 'IPO',\n",
              " 'Joint Venture',\n",
              " 'Later Stage VC',\n",
              " 'Merger of Equals',\n",
              " 'Merger/Acquisition',\n",
              " 'Other',\n",
              " 'Out of Business',\n",
              " 'PE Growth/Expansion',\n",
              " 'PIPE',\n",
              " 'Private Equity',\n",
              " 'Public Investment',\n",
              " 'Public Investment 2nd Offering',\n",
              " 'Secondary Transaction - Open Market',\n",
              " 'Secondary Transaction - Private',\n",
              " 'Seed Round',\n",
              " 'Series A',\n",
              " 'Series B',\n",
              " 'Series C',\n",
              " 'Undetermined',\n",
              " 'Venture Capital']"
            ]
          },
          "metadata": {},
          "execution_count": 13
        }
      ]
    },
    {
      "cell_type": "code",
      "source": [
        "len(combined[combined[\"last financing deal type\"]=='Venture Capital'])"
      ],
      "metadata": {
        "colab": {
          "base_uri": "https://localhost:8080/"
        },
        "id": "XUhNzQrd5hEL",
        "outputId": "5f491004-49b1-41ba-8a33-d0257f36b5d2"
      },
      "execution_count": null,
      "outputs": [
        {
          "output_type": "execute_result",
          "data": {
            "text/plain": [
              "29"
            ]
          },
          "metadata": {},
          "execution_count": 24
        }
      ]
    },
    {
      "cell_type": "code",
      "source": [
        "count=[]\n",
        "for n in list_col:\n",
        "  num=len(combined[combined[\"last financing deal type\"]==n])\n",
        "  count.append(num)\n",
        "  "
      ],
      "metadata": {
        "id": "wszIIufn5Bpp"
      },
      "execution_count": null,
      "outputs": []
    },
    {
      "cell_type": "code",
      "source": [
        "import matplotlib.pyplot as plt\n",
        "def make_bar_graph(counts, financing_status_type):   \n",
        "  # x-coordinates of left sides of bars \n",
        "  left = [n+1 for n in range(len(counts))]\n",
        "    \n",
        "  # heights of bars\n",
        "  height = counts\n",
        "    \n",
        "  # labels for bars\n",
        "  tick_label = [j for j in range(len(financing_status_type))]\n",
        "    \n",
        "  # plotting a bar chart\n",
        "  plt.bar(left, height, tick_label = tick_label,\n",
        "          width = 0.5, color = ['red', 'green', 'orange', \"blue\"])\n",
        "\n",
        "  \n",
        "  # naming the x-axis\n",
        "  plt.xlabel('Finacing Types')\n",
        "  # naming the y-axis\n",
        "  plt.ylabel('Numbers')\n",
        "  # plot title\n",
        "  plt.title('Financing Types Visualization')\n",
        "\n",
        "  f = plt.figure()\n",
        "  f.set_figwidth(1000000000000000000)\n",
        "  f.set_figheight(5)\n",
        "\n",
        "\n",
        "    \n",
        "  # function to show the plot\n",
        "  plt.show()\n",
        "\n",
        "make_bar_graph(count, list_col)"
      ],
      "metadata": {
        "colab": {
          "base_uri": "https://localhost:8080/",
          "height": 286
        },
        "id": "ulXtdVK66SWb",
        "outputId": "387178bf-de20-4883-9835-3427885aca3f"
      },
      "execution_count": null,
      "outputs": [
        {
          "output_type": "display_data",
          "data": {
            "text/plain": [
              "<Figure size 540x252 with 1 Axes>"
            ],
            "image/png": "[encoded data removed]"
          },
          "metadata": {
            "needs_background": "light"
          }
        },
        {
          "output_type": "display_data",
          "data": {
            "text/plain": [
              "<Figure size 7.2e+19x360 with 0 Axes>"
            ]
          },
          "metadata": {}
        }
      ]
    },
    {
      "cell_type": "code",
      "source": [
        "from datetime import datetime\n",
        "from dateutil import relativedelta"
      ],
      "metadata": {
        "id": "YdnTMITD_mn8"
      },
      "execution_count": null,
      "outputs": []
    },
    {
      "cell_type": "code",
      "source": [
        "def convert_date(combined): \n",
        "\n",
        "    month_name=[\"January\", \"February\", \"March\", \"April\", \"May\", \"June\", \"July\", \"August\", \n",
        "    \"September\", \"October\", \"November\", \"December\"]\n",
        "    list_month=[str(n+1) for n in range(12)]\n",
        "    list_diff_date=[]\n",
        "\n",
        "    for j in range(len(combined)): \n",
        "        \n",
        "        first_date=str(combined['first financing date'][j]).lower()\n",
        "        first_d=\"\"\n",
        "        if first_date!=\"nan\": \n",
        "            for n in range(len(month_name)): \n",
        "                middle=first_date.split(\"-\")[1]\n",
        "                name_m=month_name[n][0:3]\n",
        "                name_m=name_m.lower()\n",
        "                if name_m==middle:\n",
        "                    first_d=first_date.split(\"-\")[0]+\"-\"+list_month[n]+\"-\"+first_date.split(\"-\")[2]\n",
        "        else: \n",
        "            first_d=\"\"\n",
        "\n",
        "\n",
        "\n",
        "\n",
        "        last_date=str(combined['last financing date'][j]).lower()\n",
        "        last_d=\"\"\n",
        "            \n",
        "        if last_date!=\"nan\": \n",
        "            \n",
        "            for n in range(len(month_name)): \n",
        "                middle=last_date.split(\"-\")[1]\n",
        "                name_m=month_name[n][0:3]\n",
        "                name_m=name_m.lower()\n",
        "                if name_m==middle:\n",
        "                  last_d=last_date.split(\"-\")[0]+\"-\"+list_month[n]+\"-\"+last_date.split(\"-\")[2]\n",
        "        else: \n",
        "            last_d=\"\"\n",
        "\n",
        "\n",
        "        if last_d!=\"\": \n",
        "          if first_d!=\"\": \n",
        "\n",
        "            delta = relativedelta.relativedelta(datetime.strptime(last_d, \"%d-%m-%y\"), datetime.strptime(first_d, \"%d-%m-%y\"))\n",
        "            year=delta.years\n",
        "            month=delta.months \n",
        "            day=delta.days\n",
        "            store_str=str(month)+\"-\"+str(day)+\"-\"+str(year)\n",
        "            list_diff_date.append(store_str)\n",
        "          else: \n",
        "            list_diff_date.append(\"\")\n",
        "        else: \n",
        "            list_diff_date.append(\"\")\n",
        "            \n",
        "    return list_diff_date"
      ],
      "metadata": {
        "id": "HUrqAi3AY_OE"
      },
      "execution_count": null,
      "outputs": []
    },
    {
      "cell_type": "code",
      "source": [
        "list_diff_date=convert_date(combined)"
      ],
      "metadata": {
        "id": "y4ln2Qu9_wwG"
      },
      "execution_count": null,
      "outputs": []
    },
    {
      "cell_type": "code",
      "source": [
        "list_diff_date"
      ],
      "metadata": {
        "id": "k9JM3T23WBHX"
      },
      "execution_count": null,
      "outputs": []
    },
    {
      "cell_type": "code",
      "source": [
        "combined.columns"
      ],
      "metadata": {
        "id": "AhxGXSQ6XLZU",
        "colab": {
          "base_uri": "https://localhost:8080/"
        },
        "outputId": "c6feedfc-915d-4ab2-a314-424dc61bcc04"
      },
      "execution_count": null,
      "outputs": [
        {
          "output_type": "execute_result",
          "data": {
            "text/plain": [
              "Index(['Unnamed: 0', 'Unnamed: 0.1', 'Unnamed: 0.1.1', 'Number',\n",
              "       'Company_name', 'Inactive', 'Address', 'Postcode', 'City', 'State',\n",
              "       'State_incorporation', 'Type_entity',\n",
              "       'Number_current_directors_managers', 'NAICS', 'BvD_ID', 'ISIN',\n",
              "       'Ticker', 'DM_name', 'DM_title', 'IPO_date', 'Delisting_date',\n",
              "       'Listing_status', 'Operating_revenue_Turnover', 'P/L_before_tax\\n',\n",
              "       'P/L_for_period_net_income', 'Cash_flow', 'Total_assets',\n",
              "       'Shareholders_funds', 'Current_ratio', 'Profit_margin ',\n",
              "       'ROE_P/L before_tax', 'ROCE_P/L_before_tax', 'Solvency_ratio',\n",
              "       'Number_employees', 'PE_firms_Name', 'PE_firms_BvD_ID',\n",
              "       'LEI_first_assignment_date', 'Controlling_portfolio_company_name',\n",
              "       'Controlling_portfolio_company_BvD_ID', 'Current_portfolio_Name',\n",
              "       'Current_portfolio_BvD_ID', 'Date_incorporation', 'LOCAL', 'TRADED',\n",
              "       'five', 'ten', 'eleven', 'thirteen', 'twentythree', 'twentyfour',\n",
              "       'thirty', 'fourtysix', 'oneoone', 'oneothree', 'oneofive', 'oneoseven',\n",
              "       'onefourteen', 'number', 'Company', 'Former name', 'Also known as',\n",
              "       'legal name', 'description', 'industry code', 'financing status',\n",
              "       'total raised', 'year founded', 'business status', 'HQ location',\n",
              "       'HQ post code', 'Active investors', 'Former investor',\n",
              "       'first financing date', 'first financing size',\n",
              "       'first financing deal type', 'first financing deal class',\n",
              "       'last financing date', 'last financing size',\n",
              "       'last financing deal type', 'last financing deal class',\n",
              "       'Total patents', 'first financing deal type 2',\n",
              "       'First financing deal type 3', 'Last financing deal type 2',\n",
              "       'Last financing deal type 3', 'current_dict', 'ipo_dict'],\n",
              "      dtype='object')"
            ]
          },
          "metadata": {},
          "execution_count": 13
        }
      ]
    },
    {
      "cell_type": "markdown",
      "source": [
        "Financing_status"
      ],
      "metadata": {
        "id": "wS3vBgX7eYdq"
      }
    },
    {
      "cell_type": "code",
      "source": [
        "\n",
        "financing_status_type=[\"Formerly VC-backed\", \"Corporation\", \"Formerly PE-Backed\", \n",
        "  \"Private Equity-Backed\", \"Corporate Backed or Acquired\", \"Venture Capital-Backed\", \"nan\"]\n",
        "def count_finance_status(combined, financing_status_type):\n",
        "  lower_finance_status=[n.lower() for n in financing_status_type]\n",
        "  status_f_com=combined['financing status']\n",
        "  dict_score_finance={}\n",
        "  count_type=[0 for i in range(len(financing_status_type))]\n",
        "  for j in range(len(status_f_com)): \n",
        "    lower_status=str(status_f_com[j]).lower() \n",
        "    for n in range(len(lower_finance_status)): \n",
        "      if lower_status==lower_finance_status[n]:        \n",
        "        f_ind=n\n",
        "        f_type=lower_finance_status[n]\n",
        "        count_type[f_ind]+=1\n",
        "        dict_score_finance[f_ind]=count_type[f_ind]\n",
        "  return dict_score_finance\n",
        "dict_score_finance=count_finance_status(combined, financing_status_type)\n",
        "\n",
        "\n"
      ],
      "metadata": {
        "id": "abBneDloYAMM"
      },
      "execution_count": null,
      "outputs": []
    },
    {
      "cell_type": "code",
      "source": [
        "import matplotlib.pyplot as plt"
      ],
      "metadata": {
        "id": "Ogta_LZKixYS"
      },
      "execution_count": null,
      "outputs": []
    },
    {
      "cell_type": "code",
      "source": [
        "dict_score_finance_type=dict(sorted(dict_score_finance.items()))\n",
        "dict_score_finance_type"
      ],
      "metadata": {
        "colab": {
          "base_uri": "https://localhost:8080/"
        },
        "id": "UhhyzcvfhwXl",
        "outputId": "894461d2-b95b-4d93-b17d-6143031fb5e6"
      },
      "execution_count": null,
      "outputs": [
        {
          "output_type": "execute_result",
          "data": {
            "text/plain": [
              "{0: 374, 1: 1018, 2: 94, 3: 243, 4: 370, 5: 342, 6: 61}"
            ]
          },
          "metadata": {},
          "execution_count": 16
        }
      ]
    },
    {
      "cell_type": "code",
      "source": [
        "def make_bar_graph(dict_score_finance_type, financing_status_type):   \n",
        "  # x-coordinates of left sides of bars \n",
        "  left = [n+1 for n in range(len(dict_score_finance_type))]\n",
        "    \n",
        "  # heights of bars\n",
        "  height = [dict_score_finance_type[j] for j in range(len(financing_status_type))]\n",
        "    \n",
        "  # labels for bars\n",
        "  tick_label = ['\\n'.join(j.split(\" \")) for j in financing_status_type]\n",
        "    \n",
        "  # plotting a bar chart\n",
        "  plt.bar(left, height, tick_label = tick_label,\n",
        "          width = 0.3, color = ['red', 'green'])\n",
        "\n",
        "  \n",
        "  # naming the x-axis\n",
        "  plt.xlabel('Finacing Types')\n",
        "  # naming the y-axis\n",
        "  plt.ylabel('Numbers')\n",
        "  # plot title\n",
        "  plt.title('Financing Types Visualization')\n",
        "\n",
        "\n",
        "    \n",
        "  # function to show the plot\n",
        "  plt.show()\n",
        "\n",
        "make_bar_graph(dict_score_finance, financing_status_type)"
      ],
      "metadata": {
        "colab": {
          "base_uri": "https://localhost:8080/",
          "height": 330
        },
        "id": "97eplCbEfOX4",
        "outputId": "206f0ac9-f07c-4f5d-b339-0a6ec29357fb"
      },
      "execution_count": null,
      "outputs": [
        {
          "output_type": "display_data",
          "data": {
            "text/plain": [
              "<Figure size 432x288 with 1 Axes>"
            ],
            "image/png": "[encoded data removed]"
          },
          "metadata": {
            "needs_background": "light"
          }
        }
      ]
    },
    {
      "cell_type": "markdown",
      "source": [
        "Business status"
      ],
      "metadata": {
        "id": "QaQQMr3llrLw"
      }
    },
    {
      "cell_type": "code",
      "source": [
        "business_status_type=[\"Clinical Trials\", \"Profitable, Out of Business\", \"Generating Revenue\", \n",
        "\"Pre-Clinical Trials\", \"Product Development\", \"Generating Revenue/Not Profitable\", \n",
        "\"Bankruptcy\", \"nan\"]\n",
        "\n",
        "def count_business_status(combined, business_status_type):\n",
        "\n",
        "  changed_business_status=[n.lower() for n in business_status_type]\n",
        "  lower_business_status=[n.split(\" \") for n in changed_business_status]\n",
        "\n",
        "  status_b_com=combined['business status']\n",
        "  dict_score_business={}\n",
        "  count_type=[0 for i in range(len(lower_business_status))]\n",
        "\n",
        "  for j in range(len(status_b_com)): \n",
        "    real=str(status_b_com[j]).split(\" \")\n",
        "    real=[n.lower() for n in real]\n",
        "    for n in range(len(lower_business_status)): \n",
        "      model=lower_business_status[n]\n",
        "      if all(word in real for word in model):    \n",
        "        count_type[n]+=1\n",
        "        dict_score_business[n]=count_type[n]\n",
        "        print(\"y\")\n",
        "      else: \n",
        "        print(\"no\")\n",
        "\n",
        "  return dict_score_business\n",
        "dict_score_business=count_business_status(combined, business_status_type)\n",
        "\n",
        "\n"
      ],
      "metadata": {
        "id": "dJNfQS1-lsjN"
      },
      "execution_count": null,
      "outputs": []
    },
    {
      "cell_type": "code",
      "source": [
        "real=str(status_b_com[0]).split(\" \")\n",
        "real=[n.lower() for n in real]\n",
        "model=lower_business_status[0]\n",
        "model"
      ],
      "metadata": {
        "colab": {
          "base_uri": "https://localhost:8080/",
          "height": 222
        },
        "id": "z4c3Z1PRysYE",
        "outputId": "4218b2a2-ace8-4cc4-ee47-4f48ca88a46e"
      },
      "execution_count": null,
      "outputs": [
        {
          "output_type": "error",
          "ename": "NameError",
          "evalue": "ignored",
          "traceback": [
            "\u001b[0;31m---------------------------------------------------------------------------\u001b[0m",
            "\u001b[0;31mNameError\u001b[0m                                 Traceback (most recent call last)",
            "\u001b[0;32m<ipython-input-21-f43b28ccd4a1>\u001b[0m in \u001b[0;36m<module>\u001b[0;34m\u001b[0m\n\u001b[0;32m----> 1\u001b[0;31m \u001b[0mreal\u001b[0m\u001b[0;34m=\u001b[0m\u001b[0mstr\u001b[0m\u001b[0;34m(\u001b[0m\u001b[0mstatus_b_com\u001b[0m\u001b[0;34m[\u001b[0m\u001b[0;36m0\u001b[0m\u001b[0;34m]\u001b[0m\u001b[0;34m)\u001b[0m\u001b[0;34m.\u001b[0m\u001b[0msplit\u001b[0m\u001b[0;34m(\u001b[0m\u001b[0;34m\" \"\u001b[0m\u001b[0;34m)\u001b[0m\u001b[0;34m\u001b[0m\u001b[0;34m\u001b[0m\u001b[0m\n\u001b[0m\u001b[1;32m      2\u001b[0m \u001b[0mreal\u001b[0m\u001b[0;34m=\u001b[0m\u001b[0;34m[\u001b[0m\u001b[0mn\u001b[0m\u001b[0;34m.\u001b[0m\u001b[0mlower\u001b[0m\u001b[0;34m(\u001b[0m\u001b[0;34m)\u001b[0m \u001b[0;32mfor\u001b[0m \u001b[0mn\u001b[0m \u001b[0;32min\u001b[0m \u001b[0mreal\u001b[0m\u001b[0;34m]\u001b[0m\u001b[0;34m\u001b[0m\u001b[0;34m\u001b[0m\u001b[0m\n\u001b[1;32m      3\u001b[0m \u001b[0mmodel\u001b[0m\u001b[0;34m=\u001b[0m\u001b[0mlower_business_status\u001b[0m\u001b[0;34m[\u001b[0m\u001b[0;36m0\u001b[0m\u001b[0;34m]\u001b[0m\u001b[0;34m\u001b[0m\u001b[0;34m\u001b[0m\u001b[0m\n\u001b[1;32m      4\u001b[0m \u001b[0mmodel\u001b[0m\u001b[0;34m\u001b[0m\u001b[0;34m\u001b[0m\u001b[0m\n",
            "\u001b[0;31mNameError\u001b[0m: name 'status_b_com' is not defined"
          ]
        }
      ]
    },
    {
      "cell_type": "code",
      "source": [
        "business_status_type=[\"Clinical Trials\", \"Profitable, Out of Business\", \"Generating Revenue\", \n",
        "\"Pre-Clinical Trials\", \"Product Development\", \"Generating Revenue/Not Profitable\", \n",
        "\"Bankruptcy\", \"nan\"]\n",
        "counts, unique =np.unique(combined['business status'], return_counts=True)\n",
        "changed_business_status=[n.lower() for n in business_status_type]\n",
        "lower_business_status=[n.split(\" \") for n in changed_business_status]\n",
        "\n",
        "status_b_com=combined['Business status']\n",
        "dict_score_business={}\n",
        "count_type=[0 for i in range(len(business_status_type))]\n",
        "\n",
        "\n",
        "real=str(status_b_com[1]).split(\" \")\n",
        "real=[n.lower() for n in real]\n",
        "for n in range(len(lower_business_status)): \n",
        "  model=lower_business_status[n]\n",
        "  if all(word in real for word in model):    \n",
        "    count_type[f_ind]+=1\n",
        "    dict_score_business[n]=count_type[f_ind]\n",
        "\n"
      ],
      "metadata": {
        "id": "5TUkAzxel9AW",
        "colab": {
          "base_uri": "https://localhost:8080/",
          "height": 443
        },
        "outputId": "6e140168-84a0-49ca-d489-987da80f88dc"
      },
      "execution_count": null,
      "outputs": [
        {
          "output_type": "error",
          "ename": "TypeError",
          "evalue": "ignored",
          "traceback": [
            "\u001b[0;31m---------------------------------------------------------------------------\u001b[0m",
            "\u001b[0;31mTypeError\u001b[0m                                 Traceback (most recent call last)",
            "\u001b[0;32m<ipython-input-23-334763276247>\u001b[0m in \u001b[0;36m<module>\u001b[0;34m\u001b[0m\n\u001b[1;32m      2\u001b[0m \u001b[0;34m\"Pre-Clinical Trials\"\u001b[0m\u001b[0;34m,\u001b[0m \u001b[0;34m\"Product Development\"\u001b[0m\u001b[0;34m,\u001b[0m \u001b[0;34m\"Generating Revenue/Not Profitable\"\u001b[0m\u001b[0;34m,\u001b[0m\u001b[0;34m\u001b[0m\u001b[0;34m\u001b[0m\u001b[0m\n\u001b[1;32m      3\u001b[0m \"Bankruptcy\", \"nan\"]\n\u001b[0;32m----> 4\u001b[0;31m \u001b[0mcounts\u001b[0m\u001b[0;34m,\u001b[0m \u001b[0munique\u001b[0m \u001b[0;34m=\u001b[0m\u001b[0mnp\u001b[0m\u001b[0;34m.\u001b[0m\u001b[0munique\u001b[0m\u001b[0;34m(\u001b[0m\u001b[0mcombined\u001b[0m\u001b[0;34m[\u001b[0m\u001b[0;34m'business status'\u001b[0m\u001b[0;34m]\u001b[0m\u001b[0;34m,\u001b[0m \u001b[0mreturn_counts\u001b[0m\u001b[0;34m=\u001b[0m\u001b[0;32mTrue\u001b[0m\u001b[0;34m)\u001b[0m\u001b[0;34m\u001b[0m\u001b[0;34m\u001b[0m\u001b[0m\n\u001b[0m\u001b[1;32m      5\u001b[0m \u001b[0mchanged_business_status\u001b[0m\u001b[0;34m=\u001b[0m\u001b[0;34m[\u001b[0m\u001b[0mn\u001b[0m\u001b[0;34m.\u001b[0m\u001b[0mlower\u001b[0m\u001b[0;34m(\u001b[0m\u001b[0;34m)\u001b[0m \u001b[0;32mfor\u001b[0m \u001b[0mn\u001b[0m \u001b[0;32min\u001b[0m \u001b[0mbusiness_status_type\u001b[0m\u001b[0;34m]\u001b[0m\u001b[0;34m\u001b[0m\u001b[0;34m\u001b[0m\u001b[0m\n\u001b[1;32m      6\u001b[0m \u001b[0mlower_business_status\u001b[0m\u001b[0;34m=\u001b[0m\u001b[0;34m[\u001b[0m\u001b[0mn\u001b[0m\u001b[0;34m.\u001b[0m\u001b[0msplit\u001b[0m\u001b[0;34m(\u001b[0m\u001b[0;34m\" \"\u001b[0m\u001b[0;34m)\u001b[0m \u001b[0;32mfor\u001b[0m \u001b[0mn\u001b[0m \u001b[0;32min\u001b[0m \u001b[0mchanged_business_status\u001b[0m\u001b[0;34m]\u001b[0m\u001b[0;34m\u001b[0m\u001b[0;34m\u001b[0m\u001b[0m\n",
            "\u001b[0;32m<__array_function__ internals>\u001b[0m in \u001b[0;36munique\u001b[0;34m(*args, **kwargs)\u001b[0m\n",
            "\u001b[0;32m/usr/local/lib/python3.7/dist-packages/numpy/lib/arraysetops.py\u001b[0m in \u001b[0;36munique\u001b[0;34m(ar, return_index, return_inverse, return_counts, axis)\u001b[0m\n\u001b[1;32m    270\u001b[0m     \u001b[0mar\u001b[0m \u001b[0;34m=\u001b[0m \u001b[0mnp\u001b[0m\u001b[0;34m.\u001b[0m\u001b[0masanyarray\u001b[0m\u001b[0;34m(\u001b[0m\u001b[0mar\u001b[0m\u001b[0;34m)\u001b[0m\u001b[0;34m\u001b[0m\u001b[0;34m\u001b[0m\u001b[0m\n\u001b[1;32m    271\u001b[0m     \u001b[0;32mif\u001b[0m \u001b[0maxis\u001b[0m \u001b[0;32mis\u001b[0m \u001b[0;32mNone\u001b[0m\u001b[0;34m:\u001b[0m\u001b[0;34m\u001b[0m\u001b[0;34m\u001b[0m\u001b[0m\n\u001b[0;32m--> 272\u001b[0;31m         \u001b[0mret\u001b[0m \u001b[0;34m=\u001b[0m \u001b[0m_unique1d\u001b[0m\u001b[0;34m(\u001b[0m\u001b[0mar\u001b[0m\u001b[0;34m,\u001b[0m \u001b[0mreturn_index\u001b[0m\u001b[0;34m,\u001b[0m \u001b[0mreturn_inverse\u001b[0m\u001b[0;34m,\u001b[0m \u001b[0mreturn_counts\u001b[0m\u001b[0;34m)\u001b[0m\u001b[0;34m\u001b[0m\u001b[0;34m\u001b[0m\u001b[0m\n\u001b[0m\u001b[1;32m    273\u001b[0m         \u001b[0;32mreturn\u001b[0m \u001b[0m_unpack_tuple\u001b[0m\u001b[0;34m(\u001b[0m\u001b[0mret\u001b[0m\u001b[0;34m)\u001b[0m\u001b[0;34m\u001b[0m\u001b[0;34m\u001b[0m\u001b[0m\n\u001b[1;32m    274\u001b[0m \u001b[0;34m\u001b[0m\u001b[0m\n",
            "\u001b[0;32m/usr/local/lib/python3.7/dist-packages/numpy/lib/arraysetops.py\u001b[0m in \u001b[0;36m_unique1d\u001b[0;34m(ar, return_index, return_inverse, return_counts)\u001b[0m\n\u001b[1;32m    331\u001b[0m         \u001b[0maux\u001b[0m \u001b[0;34m=\u001b[0m \u001b[0mar\u001b[0m\u001b[0;34m[\u001b[0m\u001b[0mperm\u001b[0m\u001b[0;34m]\u001b[0m\u001b[0;34m\u001b[0m\u001b[0;34m\u001b[0m\u001b[0m\n\u001b[1;32m    332\u001b[0m     \u001b[0;32melse\u001b[0m\u001b[0;34m:\u001b[0m\u001b[0;34m\u001b[0m\u001b[0;34m\u001b[0m\u001b[0m\n\u001b[0;32m--> 333\u001b[0;31m         \u001b[0mar\u001b[0m\u001b[0;34m.\u001b[0m\u001b[0msort\u001b[0m\u001b[0;34m(\u001b[0m\u001b[0;34m)\u001b[0m\u001b[0;34m\u001b[0m\u001b[0;34m\u001b[0m\u001b[0m\n\u001b[0m\u001b[1;32m    334\u001b[0m         \u001b[0maux\u001b[0m \u001b[0;34m=\u001b[0m \u001b[0mar\u001b[0m\u001b[0;34m\u001b[0m\u001b[0;34m\u001b[0m\u001b[0m\n\u001b[1;32m    335\u001b[0m     \u001b[0mmask\u001b[0m \u001b[0;34m=\u001b[0m \u001b[0mnp\u001b[0m\u001b[0;34m.\u001b[0m\u001b[0mempty\u001b[0m\u001b[0;34m(\u001b[0m\u001b[0maux\u001b[0m\u001b[0;34m.\u001b[0m\u001b[0mshape\u001b[0m\u001b[0;34m,\u001b[0m \u001b[0mdtype\u001b[0m\u001b[0;34m=\u001b[0m\u001b[0mnp\u001b[0m\u001b[0;34m.\u001b[0m\u001b[0mbool_\u001b[0m\u001b[0;34m)\u001b[0m\u001b[0;34m\u001b[0m\u001b[0;34m\u001b[0m\u001b[0m\n",
            "\u001b[0;31mTypeError\u001b[0m: '<' not supported between instances of 'float' and 'str'"
          ]
        }
      ]
    },
    {
      "cell_type": "code",
      "source": [
        "com_select=combined['business status']\n",
        "def count_unique(com_select):\n",
        "  list_c=list(com_select)\n",
        "  list_c=[str(n) for n in list_c]\n",
        "  unique, counts =np.unique(list_c, return_counts=True)\n",
        "  dict_score_business_status={}\n",
        "  unique=list(unique)\n",
        "  counts=list(counts)\n",
        "  for n in range(len(counts)): \n",
        "    dict_score_business_status[unique[n]]=counts[n]\n",
        "  return dict_score_business_status\n",
        "\n"
      ],
      "metadata": {
        "id": "moCdC_9sugkx"
      },
      "execution_count": null,
      "outputs": []
    },
    {
      "cell_type": "code",
      "source": [
        "dict_score_business_status=count_unique(com_select)\n",
        "dict_score_business_status"
      ],
      "metadata": {
        "colab": {
          "base_uri": "https://localhost:8080/"
        },
        "id": "4YlVsORF1Kh6",
        "outputId": "7149726b-3775-4e10-cb4d-a07a1360481f"
      },
      "execution_count": null,
      "outputs": [
        {
          "output_type": "execute_result",
          "data": {
            "text/plain": [
              "{'Bankruptcy: Admin/Reorg': 1,\n",
              " 'Clinical Trials - General': 2,\n",
              " 'Clinical Trials - Phase 3': 1,\n",
              " 'Generating Revenue': 9,\n",
              " 'Generating Revenue/Not Profitable': 3,\n",
              " 'Out of Business': 3,\n",
              " 'Pre-Clinical Trials': 1,\n",
              " 'Product Development': 2,\n",
              " 'Profitable': 11,\n",
              " 'nan': 1}"
            ]
          },
          "metadata": {},
          "execution_count": 134
        }
      ]
    },
    {
      "cell_type": "code",
      "source": [
        "xlabel_name='Business Status Types'\n",
        "title_name='Business Status Types Visualization'\n",
        "def make_bar_graph(dict_score, combined, xlabel_name, title_name):   \n",
        "  # x-coordinates of left sides of bars \n",
        "  left = [n+1 for n in range(len(dict_score_business_status))]\n",
        "    \n",
        "  # heights of bars\n",
        "  height = [values for keys, values in dict_score_business_status.items()]\n",
        "    \n",
        "  # labels for bars\n",
        "  x_name = [keys for keys, values in dict_score_business_status.items()]\n",
        "    \n",
        "  tick_label = ['\\n'.join(j.split(\" \")) for j in x_name]\n",
        "  \n",
        "  # plotting a bar chart\n",
        "  plt.bar(left, height, tick_label = tick_label,\n",
        "          width = 0.3, color = ['red', 'green'])\n",
        "\n",
        "  \n",
        "  # naming the x-axis\n",
        "  plt.xlabel(xlabel_name)\n",
        "  # naming the y-axis\n",
        "  plt.ylabel('Numbers')\n",
        "  # plot title\n",
        "  plt.title(title_name)\n",
        "\n",
        "\n",
        "    \n",
        "  # function to show the plot\n",
        "  plt.show()\n",
        "\n",
        "make_bar_graph(dict_score_business_status, combined, xlabel_name, title_name)"
      ],
      "metadata": {
        "colab": {
          "base_uri": "https://localhost:8080/",
          "height": 204
        },
        "id": "9vXiXg460Gqz",
        "outputId": "4b0258b9-671e-44a9-d224-586b242c7831"
      },
      "execution_count": null,
      "outputs": [
        {
          "output_type": "error",
          "ename": "NameError",
          "evalue": "ignored",
          "traceback": [
            "\u001b[0;31m---------------------------------------------------------------------------\u001b[0m",
            "\u001b[0;31mNameError\u001b[0m                                 Traceback (most recent call last)",
            "\u001b[0;32m<ipython-input-25-702b0aebb82e>\u001b[0m in \u001b[0;36m<module>\u001b[0;34m\u001b[0m\n\u001b[1;32m     30\u001b[0m   \u001b[0mplt\u001b[0m\u001b[0;34m.\u001b[0m\u001b[0mshow\u001b[0m\u001b[0;34m(\u001b[0m\u001b[0;34m)\u001b[0m\u001b[0;34m\u001b[0m\u001b[0;34m\u001b[0m\u001b[0m\n\u001b[1;32m     31\u001b[0m \u001b[0;34m\u001b[0m\u001b[0m\n\u001b[0;32m---> 32\u001b[0;31m \u001b[0mmake_bar_graph\u001b[0m\u001b[0;34m(\u001b[0m\u001b[0mdict_score_business_status\u001b[0m\u001b[0;34m,\u001b[0m \u001b[0mcombined\u001b[0m\u001b[0;34m,\u001b[0m \u001b[0mxlabel_name\u001b[0m\u001b[0;34m,\u001b[0m \u001b[0mtitle_name\u001b[0m\u001b[0;34m)\u001b[0m\u001b[0;34m\u001b[0m\u001b[0;34m\u001b[0m\u001b[0m\n\u001b[0m",
            "\u001b[0;31mNameError\u001b[0m: name 'dict_score_business_status' is not defined"
          ]
        }
      ]
    },
    {
      "cell_type": "markdown",
      "source": [
        "Financing deal class"
      ],
      "metadata": {
        "id": "aDXKphHK2aXi"
      }
    },
    {
      "cell_type": "code",
      "source": [
        "com_select=combined['First Financing deal class']\n",
        "dict_score_first_financing_status=count_unique(com_select)\n",
        "xlabel_name= 'First Financing deal class'\n",
        "title_name='First Financing deal class Visualization'\n",
        "make_bar_graph(dict_score_first_financing_status, combined, xlabel_name, title_name) "
      ],
      "metadata": {
        "colab": {
          "base_uri": "https://localhost:8080/",
          "height": 342
        },
        "id": "t-Fal-RW2Y6E",
        "outputId": "85ee992a-d043-46dd-d3a9-b0e6533b2039"
      },
      "execution_count": null,
      "outputs": [
        {
          "output_type": "display_data",
          "data": {
            "text/plain": [
              "<Figure size 432x288 with 1 Axes>"
            ],
            "image/png": "[encoded data removed]"
          },
          "metadata": {
            "needs_background": "light"
          }
        }
      ]
    },
    {
      "cell_type": "code",
      "source": [
        "com_select=combined['First Financing deal class']\n",
        "dict_score_first_financing_status=count_unique(com_select)\n",
        "xlabel_name= 'First Financing deal class'\n",
        "title_name='First Financing deal class Visualization'\n",
        "make_bar_graph(dict_score_first_financing_status, combined, xlabel_name, title_name) "
      ],
      "metadata": {
        "id": "6UvACYd35rig"
      },
      "execution_count": null,
      "outputs": []
    },
    {
      "cell_type": "code",
      "source": [
        "combined.columns"
      ],
      "metadata": {
        "colab": {
          "base_uri": "https://localhost:8080/"
        },
        "id": "tKcd5N_V3kJr",
        "outputId": "0ec1d7b8-60fe-4ac8-ce0f-39d5e1b002a4"
      },
      "execution_count": null,
      "outputs": [
        {
          "output_type": "execute_result",
          "data": {
            "text/plain": [
              "Index(['Unnamed: 0', 'Unnamed: 0.1', 'Unnamed: 0.1.1', 'Number',\n",
              "       'Company_name', 'Inactive', 'Address', 'Postcode', 'City', 'State',\n",
              "       'State_incorporation', 'Type_entity',\n",
              "       'Number_current_directors_managers', 'NAICS', 'BvD_ID', 'ISIN',\n",
              "       'Ticker', 'DM_name', 'DM_title', 'IPO_date', 'Delisting_date',\n",
              "       'Listing_status', 'Operating_revenue_Turnover', 'P/L_before_tax\\n',\n",
              "       'P/L_for_period_net_income', 'Cash_flow', 'Total_assets',\n",
              "       'Shareholders_funds', 'Current_ratio', 'Profit_margin ',\n",
              "       'ROE_P/L before_tax', 'ROCE_P/L_before_tax', 'Solvency_ratio',\n",
              "       'Number_employees', 'PE_firms_Name', 'PE_firms_BvD_ID',\n",
              "       'LEI_first_assignment_date', 'Controlling_portfolio_company_name',\n",
              "       'Controlling_portfolio_company_BvD_ID', 'Current_portfolio_Name',\n",
              "       'Current_portfolio_BvD_ID', 'Date_incorporation', 'LOCAL', 'TRADED',\n",
              "       'five', 'ten', 'eleven', 'thirteen', 'twentythree', 'twentyfour',\n",
              "       'thirty', 'fourtysix', 'oneoone', 'oneothree', 'oneofive', 'oneoseven',\n",
              "       'onefourteen', 'number', 'Company', 'Former name', 'Also known as',\n",
              "       'Legal name ', 'Description', 'industry code', 'Financing status',\n",
              "       'Total Raised', 'year founded', 'Business status', 'HQ Location',\n",
              "       'HQ post code', 'Active investors', 'Former investors',\n",
              "       'first financing date', 'First financing size',\n",
              "       'first financing deal type', 'First Financing deal class',\n",
              "       'last financing date', 'last financing size',\n",
              "       'last financing deal type', 'last financing deal class', 'total patent',\n",
              "       'last financing deal type.1', 'First financing deal type 2',\n",
              "       'First financing deal type 3', 'Last financing deal type 2',\n",
              "       'Last financing deal type 3'],\n",
              "      dtype='object')"
            ]
          },
          "metadata": {},
          "execution_count": 137
        }
      ]
    },
    {
      "cell_type": "code",
      "source": [
        "(1) First_financing_status: [\"Formerly VC-backed\", \"Corporation\", \"Formerly PE-Backed\", \n",
        "\"Private Equity-Backed\", \"Corporate Backed or Acquired\", \"Venture Capital-Backed\"]\n",
        "\n",
        "(2) Business_status: [\"Clinical Trials\", \"Profitable, Out of Business\", \"Generating Revenue\", \n",
        "\"Pre-Clinical Trials\", \"Product Development\", \"Generating Revenue/Not Profitable\", \n",
        "\"Bankruptcy\"]\n",
        "\n",
        "(3) Last/First financing_deal_class: [\"Public Investment\", \"Corporate\", \"Private Equity\", \n",
        "\"Out of Business\", \"Venture Capital\", \"Other\", \"Individual\"]\n",
        "\n",
        "(4) first/last financing_deal_type: [\"Grant\", \"Secondary Transaction\", \n",
        "\"Pre/Accelerator/Incubator\", \"Angel\", \"Seed Round\", \"Early Stage VC\", \"Later Stage VC\", \n",
        "\"Other Stages\", \"Round 1\", \"Round 2\", \"Round 3\", \"Later rounds\", \"Seed\", \"Series A\", \n",
        "\"Series A1\", \"Series B\", \"Series C\", \"Series D\", \"Later series\", \"Buyout/LBO\", \n",
        "\"Management buyout\", \"Management buy-In\", \"Add-on\", \"Secondary buyout\", \"Public to private\", \n",
        "\"Privatization\", \"Corporate divestiture\", \"Other\", \"PE Growth/Expansion\" , \"PIPE\", \n",
        "\"Investor buyout by mgt.\", \"GP Stakes\", \"Merger/Acquisition\", \"Merger of equals\"\n",
        ", \"Reverse merger\", \"Non-Control Transactions\", \"Corporate\", \"Restart corporate\"\n",
        ", \"Joint Venture\", \"Debt General\", \"Convertible debt\", \"Debt conversion\", \"Debt repayment\"\n",
        ", \"Refinancing\", \"Leveraged recapitalization\", \"Recapitalization\",\n",
        "\"Dividend recapitalization\", \"IPO\", \"Secondary offering\", \"Share repurchase\", \"Dividend\", \n",
        "\"Bankruptcy: Liquidation\", \"Bankruptcy: Admin/Reorg\", \"Out of Business\"]\n",
        "\n"
      ],
      "metadata": {
        "id": "A0MFkc3ERtKK"
      },
      "execution_count": null,
      "outputs": []
    }
  ],
  "metadata": {
    "colab": {
      "provenance": []
    },
    "kernelspec": {
      "display_name": "Python 3",
      "name": "python3"
    },
    "language_info": {
      "name": "python"
    }
  },
  "nbformat": 4,
  "nbformat_minor": 0
}