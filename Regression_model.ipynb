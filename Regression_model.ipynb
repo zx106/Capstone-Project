{
  "cells": [
    {
      "cell_type": "code",
      "execution_count": null,
      "metadata": {
        "colab": {
          "base_uri": "https://localhost:8080/"
        },
        "id": "FVDaqZUMZGNy",
        "outputId": "d3537f87-fbff-4b34-f846-7c839782094e"
      },
      "outputs": [
        {
          "output_type": "stream",
          "name": "stdout",
          "text": [
            "Drive already mounted at /drive; to attempt to forcibly remount, call drive.mount(\"/drive\", force_remount=True).\n"
          ]
        }
      ],
      "source": [
        "from google.colab import drive\n",
        "from google.colab import drive \n",
        "drive.mount('/drive')\n"
      ]
    },
    {
      "cell_type": "code",
      "execution_count": null,
      "metadata": {
        "id": "OdWB-pGXWi6R"
      },
      "outputs": [],
      "source": [
        "################# import statements #################\n",
        "import pandas as pd\n",
        "import numpy as np\n",
        "import seaborn as sns \n",
        "from sklearn import preprocessing\n",
        "import matplotlib.pyplot as plt \n",
        "from sklearn.linear_model import LogisticRegression\n",
        "from sklearn.model_selection import train_test_split\n",
        "from sklearn.preprocessing import StandardScaler\n",
        "\n",
        "import statsmodels.api as sm \n",
        "from statsmodels.formula.api import logit "
      ]
    },
    {
      "cell_type": "code",
      "source": [
        "biotech=pd.read_csv('/drive/My Drive/Healthcare UROP/Fall 2022/Smaller Class Data/biotech/final_biotech.csv')\n",
        "diag_analytics=pd.read_csv('/drive/My Drive/Healthcare UROP/Fall 2022/Smaller Class Data/tier1/manufacture_diag_anlyt.csv')\n",
        "eqpt=pd.read_csv('/drive/My Drive/Healthcare UROP/Fall 2022/Smaller Class Data/tier1/manufacture_eqpt.csv')\n",
        "lab_rsrch=pd.read_csv('/drive/My Drive/Healthcare UROP/Fall 2022/Smaller Class Data/tier1/lab_rsrch.csv')"
      ],
      "metadata": {
        "id": "WPhPF4Dq2auc"
      },
      "execution_count": null,
      "outputs": []
    },
    {
      "cell_type": "markdown",
      "source": [
        "Biotech"
      ],
      "metadata": {
        "id": "my-eI_VjUuSe"
      }
    },
    {
      "cell_type": "code",
      "source": [
        "last_financing_deal_type_biotech=biotech[['Last_Financing_Deal_Type']]\n",
        "first_financing_deal_type_biotech=biotech[['Last_Financing_Deal_Type']]\n",
        "us,cs=np.unique(last_financing_deal_type_biotech, return_counts=True)"
      ],
      "metadata": {
        "id": "tg5CxeZPuW1N"
      },
      "execution_count": null,
      "outputs": []
    },
    {
      "cell_type": "code",
      "source": [
        "list_good=['Buyout/LBO', 'Corporate', 'IPO', 'Later Stage VC', 'Merger/Acquisition', 'PE Growth/Expansion']\n",
        "list_bad=[]\n",
        "for n in list(us): \n",
        "  if n not in list_good:\n",
        "    list_bad.append(n)\n"
      ],
      "metadata": {
        "id": "TLJbpg9G-CAU"
      },
      "execution_count": null,
      "outputs": []
    },
    {
      "cell_type": "markdown",
      "source": [
        "Daignostic Analytics"
      ],
      "metadata": {
        "id": "_yl7qldbUw9k"
      }
    },
    {
      "cell_type": "code",
      "source": [
        "last_financing_deal_type_biotech=diag_analytics[['last financing deal type']]\n",
        "us,cs=np.unique(last_financing_deal_type_biotech, return_counts=True)\n",
        "\n",
        "list_good=['Buyout/LBO', 'Corporate', 'IPO', 'Later Stage VC', 'Merger/Acquisition', 'PE Growth/Expansion']\n",
        "list_bad=[]\n",
        "for n in list(us): \n",
        "  if n not in list_good:\n",
        "    list_bad.append(n)"
      ],
      "metadata": {
        "id": "Lp92NO_uU1Q0"
      },
      "execution_count": null,
      "outputs": []
    },
    {
      "cell_type": "markdown",
      "source": [
        "Equiptment "
      ],
      "metadata": {
        "id": "mqFQKY6Yd90P"
      }
    },
    {
      "cell_type": "code",
      "source": [
        "last_financing_deal_type_biotech=eqpt[['last financing deal type']]\n",
        "us,cs=np.unique(last_financing_deal_type_biotech, return_counts=True)\n",
        "\n",
        "list_good=['Buyout/LBO', 'Corporate', 'IPO', 'Later Stage VC', 'Merger/Acquisition', 'PE Growth/Expansion']\n",
        "list_bad=[]\n",
        "for n in list(us): \n",
        "  if n not in list_good:\n",
        "    list_bad.append(n)"
      ],
      "metadata": {
        "id": "o5Zogzxod8-l"
      },
      "execution_count": null,
      "outputs": []
    },
    {
      "cell_type": "markdown",
      "source": [
        "Lab reserach "
      ],
      "metadata": {
        "id": "wOVn3MvZi5A6"
      }
    },
    {
      "cell_type": "code",
      "source": [
        "last_financing_deal_type_biotech=lab_rsrch[['last financing deal type']]\n",
        "us,cs=np.unique(last_financing_deal_type_biotech, return_counts=True)\n",
        "\n",
        "list_good=['Buyout/LBO', 'Corporate', 'IPO', 'Later Stage VC', 'Merger/Acquisition', 'PE Growth/Expansion']\n",
        "list_bad=[]\n",
        "for n in list(us): \n",
        "  if n not in list_good:\n",
        "    list_bad.append(n)"
      ],
      "metadata": {
        "id": "lMLLRVfhi4ki"
      },
      "execution_count": null,
      "outputs": []
    },
    {
      "cell_type": "code",
      "source": [
        "def find_bad_good(biotech):\n",
        "  bad_category_row_index=[]\n",
        "  good_category_row_index=[]\n",
        "  except_index=[]\n",
        "  for n in range(biotech.shape[0]):\n",
        "    try:\n",
        "      if biotech.loc[n]['last financing deal type'] not in list_bad: \n",
        "        bad_category_row_index.append(n)\n",
        "      else:\n",
        "        good_category_row_index.append(n)\n",
        "    except KeyError:\n",
        "      except_index.append(n)\n",
        "  return bad_category_row_index, good_category_row_index\n"
      ],
      "metadata": {
        "id": "L-YP54bgC2U7"
      },
      "execution_count": null,
      "outputs": []
    },
    {
      "cell_type": "code",
      "source": [
        "def find_final_var(biotech):\n",
        "  X=biotech[['State_incorporation', 'Type_entity',\n",
        "  'LOCAL', 'TRADED','five', 'ten', 'thirteen', 'twentythree', 'twentyfour',\n",
        "  'thirty', 'oneothree', 'oneoseven',\n",
        "  'onefourteen', 'Num of name','fame included', 'last financing deal type']]\n",
        "  return X\n"
      ],
      "metadata": {
        "id": "SJ1uJm1VHwu7"
      },
      "execution_count": null,
      "outputs": []
    },
    {
      "cell_type": "code",
      "source": [
        "def form_final_data(bad_category_row_index, good_category_row_index, X, name_file):\n",
        "  final_copy=X.copy(deep=True)\n",
        "\n",
        "  for n in range(final_copy.shape[0]):\n",
        "    n_item=final_copy.loc[n]['last financing deal type']\n",
        "    if n_item!=1: \n",
        "      if n_item!=0:  \n",
        "        if n_item in list_bad: \n",
        "          final_copy.at[n,'last financing deal type']=0\n",
        "        else: \n",
        "          final_copy.at[n,'last financing deal type']=1\n",
        "\n",
        "  for n in range(final_copy.shape[0]):\n",
        "    n_item=final_copy.loc[n]['State_incorporation']\n",
        "    if n_item=='Delaware': \n",
        "      final_copy.at[n,'State_incorporation']=1\n",
        "    else: \n",
        "      final_copy.at[n,'State_incorporation']=0\n",
        "\n",
        "  for n in range(final_copy.shape[0]):\n",
        "    n_item=final_copy.loc[n]['Type_entity']\n",
        "    if n_item=='Corporate': \n",
        "      final_copy.at[n,'Type_entity']=1\n",
        "    else: \n",
        "      final_copy.at[n,'Type_entity']=0\n",
        "\n",
        "  for n in range(final_copy.shape[0]):\n",
        "    n_item=final_copy.loc[n]['Num of name']\n",
        "    if n_item>3: \n",
        "      final_copy.at[n,'Num of name']=1\n",
        "    else: \n",
        "      final_copy.at[n,'Num of name']=0\n",
        "  final_copy.to_csv('/drive/My Drive/Healthcare UROP/Fall 2022/'+name_file)\n"
      ],
      "metadata": {
        "id": "LytmiCgL-Smj"
      },
      "execution_count": null,
      "outputs": []
    },
    {
      "cell_type": "markdown",
      "source": [
        "Biotech"
      ],
      "metadata": {
        "id": "bkje0M9rRgZY"
      }
    },
    {
      "cell_type": "code",
      "source": [
        "bad_category_row_index, good_category_row_index=find_bad_good(biotech)\n",
        "X=find_final_var(biotech)\n",
        "name_file='new_biotech.csv'\n",
        "form_final_data(bad_category_row_index, good_category_row_index, X, name_file)"
      ],
      "metadata": {
        "id": "hsO6WuypRN0B"
      },
      "execution_count": null,
      "outputs": []
    },
    {
      "cell_type": "markdown",
      "source": [
        "Diagnostic Analytics"
      ],
      "metadata": {
        "id": "2yM0nHNyRiCl"
      }
    },
    {
      "cell_type": "code",
      "source": [
        "bad_category_row_index, good_category_row_index=find_bad_good(diag_analytics)\n",
        "X=find_final_var(diag_analytics)\n",
        "name_file='new_diag_analytics.csv'\n",
        "form_final_data(bad_category_row_index, good_category_row_index, X, name_file)"
      ],
      "metadata": {
        "id": "YuHM0LygRmiE"
      },
      "execution_count": null,
      "outputs": []
    },
    {
      "cell_type": "markdown",
      "source": [
        "manufacture_eqpt"
      ],
      "metadata": {
        "id": "BEwAPFyAdbfR"
      }
    },
    {
      "cell_type": "code",
      "source": [
        "bad_category_row_index, good_category_row_index=find_bad_good(diag_analytics)\n",
        "X=find_final_var(diag_analytics)\n",
        "name_file='new_eqpt.csv'\n",
        "form_final_data(bad_category_row_index, good_category_row_index, X, name_file)"
      ],
      "metadata": {
        "id": "PgstWZyrdcu-"
      },
      "execution_count": null,
      "outputs": []
    },
    {
      "cell_type": "markdown",
      "source": [
        "lab research"
      ],
      "metadata": {
        "id": "meWu2mvCjwOd"
      }
    },
    {
      "cell_type": "code",
      "source": [
        "bad_category_row_index, good_category_row_index=find_bad_good(lab_rsrch)\n",
        "X=find_final_var(lab_rsrch)\n",
        "name_file='new_lab.csv'\n",
        "form_final_data(bad_category_row_index, good_category_row_index, X, name_file)"
      ],
      "metadata": {
        "id": "QDOkmjYjjxyc"
      },
      "execution_count": null,
      "outputs": []
    },
    {
      "cell_type": "code",
      "source": [
        "new=pd.read_csv('/drive/My Drive/Healthcare UROP/Fall 2022/combined.csv')"
      ],
      "metadata": {
        "id": "yfTUAa52A21s"
      },
      "execution_count": null,
      "outputs": []
    },
    {
      "cell_type": "code",
      "source": [
        "#new.info()\n",
        "#new.describe()\n",
        "\n",
        "train_data, test_data=train_test_split(new, test_size=0.2, random_state=42)\n",
        "#formula=('Last_Financing_Deal_Type ~ State_incorporation+TRADED+five+thirteen+twentythree+oneothree+Num_of_name+fame_included')\n",
        "formula=('Last_Financing_Deal_Type ~ State_incorporation+TRADED+five+thirteen+twentythree+Num_of_name+fame_included')\n",
        "\n",
        "model=logit(formula=formula, data=train_data).fit()\n",
        "model.summary()"
      ],
      "metadata": {
        "colab": {
          "base_uri": "https://localhost:8080/",
          "height": 486
        },
        "id": "JCCPfFkJLU7z",
        "outputId": "c63c95cb-9bf5-47e8-e800-8a32b815bfe8"
      },
      "execution_count": null,
      "outputs": [
        {
          "output_type": "stream",
          "name": "stdout",
          "text": [
            "Warning: Maximum number of iterations has been exceeded.\n",
            "         Current function value: 0.666426\n",
            "         Iterations: 35\n"
          ]
        },
        {
          "output_type": "stream",
          "name": "stderr",
          "text": [
            "/usr/local/lib/python3.9/dist-packages/statsmodels/base/model.py:604: ConvergenceWarning: Maximum Likelihood optimization failed to converge. Check mle_retvals\n",
            "  warnings.warn(\"Maximum Likelihood optimization failed to \"\n"
          ]
        },
        {
          "output_type": "execute_result",
          "data": {
            "text/plain": [
              "<class 'statsmodels.iolib.summary.Summary'>\n",
              "\"\"\"\n",
              "                              Logit Regression Results                              \n",
              "====================================================================================\n",
              "Dep. Variable:     Last_Financing_Deal_Type   No. Observations:                  587\n",
              "Model:                                Logit   Df Residuals:                      579\n",
              "Method:                                 MLE   Df Model:                            7\n",
              "Date:                      Thu, 16 Mar 2023   Pseudo R-squ.:                 0.03196\n",
              "Time:                              13:37:33   Log-Likelihood:                -391.19\n",
              "converged:                            False   LL-Null:                       -404.11\n",
              "Covariance Type:                  nonrobust   LLR p-value:                 0.0005409\n",
              "=======================================================================================\n",
              "                          coef    std err          z      P>|z|      [0.025      0.975]\n",
              "---------------------------------------------------------------------------------------\n",
              "Intercept              -0.3878      0.463     -0.838      0.402      -1.295       0.520\n",
              "State_incorporation    -0.0556      0.172     -0.324      0.746      -0.392       0.281\n",
              "TRADED                  0.2625        nan        nan        nan         nan         nan\n",
              "five                    0.4228        nan        nan        nan         nan         nan\n",
              "thirteen               -0.3672        nan        nan        nan         nan         nan\n",
              "twentythree             0.2069        nan        nan        nan         nan         nan\n",
              "Num_of_name             0.0115      0.326      0.035      0.972      -0.627       0.650\n",
              "fame_included          22.0745   2.56e+04      0.001      0.999   -5.01e+04    5.01e+04\n",
              "=======================================================================================\n",
              "\"\"\""
            ],
            "text/html": [
              "<table class=\"simpletable\">\n",
              "<caption>Logit Regression Results</caption>\n",
              "<tr>\n",
              "  <th>Dep. Variable:</th>   <td>Last_Financing_Deal_Type</td> <th>  No. Observations:  </th>  <td>   587</td>  \n",
              "</tr>\n",
              "<tr>\n",
              "  <th>Model:</th>                     <td>Logit</td>          <th>  Df Residuals:      </th>  <td>   579</td>  \n",
              "</tr>\n",
              "<tr>\n",
              "  <th>Method:</th>                     <td>MLE</td>           <th>  Df Model:          </th>  <td>     7</td>  \n",
              "</tr>\n",
              "<tr>\n",
              "  <th>Date:</th>                <td>Thu, 16 Mar 2023</td>     <th>  Pseudo R-squ.:     </th>  <td>0.03196</td> \n",
              "</tr>\n",
              "<tr>\n",
              "  <th>Time:</th>                    <td>13:37:33</td>         <th>  Log-Likelihood:    </th> <td> -391.19</td> \n",
              "</tr>\n",
              "<tr>\n",
              "  <th>converged:</th>                 <td>False</td>          <th>  LL-Null:           </th> <td> -404.11</td> \n",
              "</tr>\n",
              "<tr>\n",
              "  <th>Covariance Type:</th>         <td>nonrobust</td>        <th>  LLR p-value:       </th> <td>0.0005409</td>\n",
              "</tr>\n",
              "</table>\n",
              "<table class=\"simpletable\">\n",
              "<tr>\n",
              "           <td></td>              <th>coef</th>     <th>std err</th>      <th>z</th>      <th>P>|z|</th>  <th>[0.025</th>    <th>0.975]</th>  \n",
              "</tr>\n",
              "<tr>\n",
              "  <th>Intercept</th>           <td>   -0.3878</td> <td>    0.463</td> <td>   -0.838</td> <td> 0.402</td> <td>   -1.295</td> <td>    0.520</td>\n",
              "</tr>\n",
              "<tr>\n",
              "  <th>State_incorporation</th> <td>   -0.0556</td> <td>    0.172</td> <td>   -0.324</td> <td> 0.746</td> <td>   -0.392</td> <td>    0.281</td>\n",
              "</tr>\n",
              "<tr>\n",
              "  <th>TRADED</th>              <td>    0.2625</td> <td>      nan</td> <td>      nan</td> <td>   nan</td> <td>      nan</td> <td>      nan</td>\n",
              "</tr>\n",
              "<tr>\n",
              "  <th>five</th>                <td>    0.4228</td> <td>      nan</td> <td>      nan</td> <td>   nan</td> <td>      nan</td> <td>      nan</td>\n",
              "</tr>\n",
              "<tr>\n",
              "  <th>thirteen</th>            <td>   -0.3672</td> <td>      nan</td> <td>      nan</td> <td>   nan</td> <td>      nan</td> <td>      nan</td>\n",
              "</tr>\n",
              "<tr>\n",
              "  <th>twentythree</th>         <td>    0.2069</td> <td>      nan</td> <td>      nan</td> <td>   nan</td> <td>      nan</td> <td>      nan</td>\n",
              "</tr>\n",
              "<tr>\n",
              "  <th>Num_of_name</th>         <td>    0.0115</td> <td>    0.326</td> <td>    0.035</td> <td> 0.972</td> <td>   -0.627</td> <td>    0.650</td>\n",
              "</tr>\n",
              "<tr>\n",
              "  <th>fame_included</th>       <td>   22.0745</td> <td> 2.56e+04</td> <td>    0.001</td> <td> 0.999</td> <td>-5.01e+04</td> <td> 5.01e+04</td>\n",
              "</tr>\n",
              "</table>"
            ]
          },
          "metadata": {},
          "execution_count": 29
        }
      ]
    },
    {
      "cell_type": "code",
      "source": [
        "AME=model.get_margeff(at=\"overall\", method=\"dydx\")\n",
        "print(AME.summary())"
      ],
      "metadata": {
        "colab": {
          "base_uri": "https://localhost:8080/"
        },
        "id": "QTh56ei8p0c-",
        "outputId": "1bf57c6d-d28e-46a3-84f6-12f087641559"
      },
      "execution_count": null,
      "outputs": [
        {
          "output_type": "stream",
          "name": "stdout",
          "text": [
            "           Logit Marginal Effects          \n",
            "===========================================\n",
            "Dep. Variable:     Last_Financing_Deal_Type\n",
            "Method:                                dydx\n",
            "At:                                 overall\n",
            "=======================================================================================\n",
            "                         dy/dx    std err          z      P>|z|      [0.025      0.975]\n",
            "---------------------------------------------------------------------------------------\n",
            "State_incorporation    -0.0132      0.041     -0.324      0.746      -0.093       0.067\n",
            "TRADED                  0.0624        nan        nan        nan         nan         nan\n",
            "five                    0.1004        nan        nan        nan         nan         nan\n",
            "thirteen               -0.0872        nan        nan        nan         nan         nan\n",
            "twentythree             0.0491        nan        nan        nan         nan         nan\n",
            "Num_of_name             0.0027      0.077      0.035      0.972      -0.149       0.154\n",
            "fame_included           5.2441   6070.264      0.001      0.999   -1.19e+04    1.19e+04\n",
            "=======================================================================================\n"
          ]
        },
        {
          "output_type": "stream",
          "name": "stderr",
          "text": [
            "/usr/local/lib/python3.9/dist-packages/statsmodels/discrete/discrete_margins.py:343: RuntimeWarning: invalid value encountered in sqrt\n",
            "  return cov_me, np.sqrt(np.diag(cov_me))\n"
          ]
        }
      ]
    },
    {
      "cell_type": "code",
      "source": [
        "import numpy as np \n",
        "from sklearn.metrics import classification_report, accuracy_score\n",
        "prediction=model.predict(exog=test_data)\n",
        "cutoff=0.5\n",
        "y_prediction = np.where(prediction > cutoff,1,0)\n",
        "y_actual=test_data[\"Last_Financing_Deal_Type\"]\n",
        "conf_matrix=pd.crosstab(y_actual, y_prediction, rownames=[\"Actual\"], colnames=[\"Predicted\"], margins=True)\n",
        "print(conf_matrix)"
      ],
      "metadata": {
        "colab": {
          "base_uri": "https://localhost:8080/"
        },
        "id": "LpPbBdhzqLai",
        "outputId": "6216115e-c935-402f-cb9d-4ee862f6f970"
      },
      "execution_count": null,
      "outputs": [
        {
          "output_type": "stream",
          "name": "stdout",
          "text": [
            "Predicted   0   1  All\n",
            "Actual                \n",
            "0          53  31   84\n",
            "1          30  33   63\n",
            "All        83  64  147\n"
          ]
        }
      ]
    },
    {
      "cell_type": "code",
      "source": [
        "#Accuracy \n",
        "accuracy=accuracy_score(y_actual, y_prediction)\n",
        "print('Accuracy: %.2f' % accuracy + \"%\")"
      ],
      "metadata": {
        "colab": {
          "base_uri": "https://localhost:8080/"
        },
        "id": "MjbToaoCskMm",
        "outputId": "3a2e89a9-a6c3-4986-f836-a3dbfd423bf4"
      },
      "execution_count": null,
      "outputs": [
        {
          "output_type": "stream",
          "name": "stdout",
          "text": [
            "Accuracy: 0.59%\n"
          ]
        }
      ]
    },
    {
      "cell_type": "code",
      "source": [
        "print(classification_report(y_actual, y_prediction))"
      ],
      "metadata": {
        "colab": {
          "base_uri": "https://localhost:8080/"
        },
        "id": "MJGBd9n2s_cn",
        "outputId": "6a0f8b4e-dcd8-4107-e346-0cc62bc68dc0"
      },
      "execution_count": null,
      "outputs": [
        {
          "output_type": "stream",
          "name": "stdout",
          "text": [
            "              precision    recall  f1-score   support\n",
            "\n",
            "           0       0.64      0.63      0.63        84\n",
            "           1       0.52      0.52      0.52        63\n",
            "\n",
            "    accuracy                           0.59       147\n",
            "   macro avg       0.58      0.58      0.58       147\n",
            "weighted avg       0.59      0.59      0.59       147\n",
            "\n"
          ]
        }
      ]
    },
    {
      "cell_type": "markdown",
      "source": [
        "Fall 2022 UROP "
      ],
      "metadata": {
        "id": "tpugCBcbHyc1"
      }
    },
    {
      "cell_type": "code",
      "source": [
        "final_naic=list(final[\"NAICS\"])\n",
        "uni, counts=np.unique(final_naic, return_counts=True)\n"
      ],
      "metadata": {
        "colab": {
          "base_uri": "https://localhost:8080/"
        },
        "id": "OlBIyXRInzF1",
        "outputId": "6b260d16-bb1e-4f2b-d26f-64aa1114e222"
      },
      "execution_count": null,
      "outputs": [
        {
          "output_type": "execute_result",
          "data": {
            "text/plain": [
              "array(['325212', '325411', '325412', '325413', '325414', '333314',\n",
              "       '334413', '334510', '334515', '334516', '334517', '339112',\n",
              "       '339113', '339114', '339115', '339116', '423450', '423460',\n",
              "       '424210', '446110', '446130', '524113', '524113\\n524126', '524114',\n",
              "       '524114\\n525190', '524126\\n525190', '524127', '524210', '524298',\n",
              "       '532283', '541714', '541715', '621111', '621111\\n621112', '621210',\n",
              "       '621310', '621320', '621330', '621391', '621399', '621492',\n",
              "       '621498', '621511', '621610', '621999', '622110', '622210',\n",
              "       '623110', '623311', '624120', '812210', '812220', 'nan'],\n",
              "      dtype='<U32')"
            ]
          },
          "metadata": {},
          "execution_count": 7
        }
      ]
    },
    {
      "cell_type": "markdown",
      "source": [
        "Tier 1 \n",
        "\n",
        "manufacturing \n",
        "\n",
        "325411: medicinal and botanical manufacturing \n",
        "\n",
        "325412: pharmaceutical preparation manufacturing \n",
        "\n",
        "325412: pharmaceutical preparation manufacturing \n",
        "\n",
        "325413: In-vitro diagnostic substance manufacturing \n",
        "\n",
        "325414: Biologiacl product (except diagnostic) manufacturing\n",
        "\n",
        "333314: Optical instrument and lens manufacturing (small business) \n",
        "\n",
        "334510: electromedical and electrotherapetic apparartus manufacturing \n",
        "\n",
        "334517: manufacturing irradiation apparatus and tubes for applications, such as medical dignostic, medical therapeutic, industrial, research, and sceintific evaluation \n",
        "\n",
        "334516: analytical laboratory instrument manufacturing \n",
        "\n",
        "339112: surgical and medical instrument manufacturing \n",
        "\n",
        "339113: surgical applicance and supplies manufacturing \n",
        "\n",
        "339114: dental equipment and supplies manufacturing \n",
        "\n",
        "339115: opthalmic goods manufaturing \n",
        "\n",
        "\n",
        "laboratories and research\n",
        "\n",
        "339116: dental laboratories \n",
        "\n",
        "541714: research and development in biotechnology (except nanobiotechnology) \n",
        "\n",
        "541715: research and developent in physical, engineering, and life sceicnes (except nanotechnology and biotechnology) \n",
        "\n",
        "621511: medical laboratories \n",
        "\n",
        "\n",
        "wholesalers\n",
        "\n",
        "423450: medical, dental, and hospotal equipment and supplies merchant wholesalers \n",
        "\n",
        "423460: merchant whohlesale distribution of professional equipment , instruments, and/or goods sold, prescribed, or used by opthalmologists, optometrsits, and opticians\n",
        "\n",
        "424210: drugs and druggists sundries merchant wholesalers \n",
        "\n",
        "\n",
        "stores \n",
        "\n",
        "446110: pharmacies and drug stores \n",
        "\n",
        "446130: optical goods stores \n",
        "\n",
        "Rental \n",
        "532283: Home health equipment rental \n",
        "\n",
        "\n",
        "Tier 2\n",
        "\n",
        "insurance \n",
        "\n",
        "524113: direct life insurance carriers \n",
        "\n",
        "524113\\n524126: direct property and casualty insurance carriers \n",
        "\n",
        "524114: direct health and medical insurance carriers \n",
        "\n",
        "524114\\n525190: other insurance funds \n",
        "\n",
        "524126\\n525190: direct property and casualty insurance carriers \n",
        "\n",
        "524127: direct title insurance carriers \n",
        "\n",
        "524210: insurance agencies and brokerages \n",
        "\n",
        "524298: all other insurance related activities \n",
        "\n",
        "\n",
        "offices and hospitals \n",
        "\n",
        "621111: Offices of physicians (except mental health specialists) \n",
        "\n",
        "621111\\n621112: Officies of physicians, mental health specialists \n",
        "\n",
        "621210: Offices of dentists \n",
        "\n",
        "621310: Offices of chiropractors \n",
        "\n",
        "621320: offices of optoetrists \n",
        "\n",
        "621330: offices of mental health practitioners (except physicians) \n",
        "\n",
        "621391: Offices of podiatrists \n",
        "\n",
        "621399: offices of  all other miscellaneous health practitioners \n",
        "\n",
        "621492: kidney dialysis centers \n",
        "\n",
        "621498: other outpatient care centers \n",
        " \n",
        "621610: home health care services \n",
        "\n",
        "621999: all other miscellaneous ambulatory health car services \n",
        " \n",
        "622110: general medical and surgical hospitals \n",
        " \n",
        "622210: psychiatric and substtance abuse hospitals \n",
        " \n",
        "623110: nursing care facilities \n",
        " \n",
        "623311: continuing care retirement communities \n",
        " \n",
        "624120: services for elderly and perons with disabilities \n",
        "\n",
        "\n",
        "\n",
        "\n",
        "\n",
        "\n",
        "325212: synthetic rubber manufacturing \n",
        "334413: manufacturing semiconductors and related solid-stated devices \n",
        "334515: instrument manufacturing for measuring and testing electricity and electrical signals \n",
        "812210: funeral homes \n",
        "812220: cemeteries and crematoria \n",
        "\n",
        "\n",
        "\n",
        "\n",
        "\n",
        "\n",
        "\n",
        "\n",
        "\n",
        "\n",
        "\n",
        "\n"
      ],
      "metadata": {
        "id": "eOSkmzDJptPs"
      }
    },
    {
      "cell_type": "markdown",
      "source": [
        "Manufacturing: biotech related "
      ],
      "metadata": {
        "id": "YXhq85-x2DUP"
      }
    },
    {
      "cell_type": "code",
      "source": [
        "final_325411=final[final[\"NAICS\"]==\"325411\"]\n",
        "final_325412=final[final[\"NAICS\"]==\"325412\"]\n",
        "final_325414=final[final[\"NAICS\"]==\"325414\"]"
      ],
      "metadata": {
        "id": "VSGyoyBUiRS3"
      },
      "execution_count": null,
      "outputs": []
    },
    {
      "cell_type": "code",
      "source": [
        "#manufacture_biotech=pd.DataFrame(final_325411)+pd.DataFrame(final_325412)+pd.DataFrame(final_325414)\n",
        "manufacture_biotech = pd.concat([final_325411, final_325412, final_325414], axis=0)\n",
        "manufacture_biotech.to_csv('/drive/My Drive/Healthcare UROP/Smaller Class Data/tier1/manufacture_biotech.csv')\n"
      ],
      "metadata": {
        "id": "6Bd1lBDZ1iFB"
      },
      "execution_count": null,
      "outputs": []
    },
    {
      "cell_type": "markdown",
      "source": [
        "Manufaturing: diagnostic and analaytics "
      ],
      "metadata": {
        "id": "i218L97n2Qss"
      }
    },
    {
      "cell_type": "code",
      "source": [
        "#diagonostic\n",
        "final_325413=final[final[\"NAICS\"]==\"325413\"]\n",
        "final_334517=final[final[\"NAICS\"]==\"334517\"]\n",
        "#analytics\n",
        "final_334510=final[final[\"NAICS\"]==\"334510\"]\n",
        "final_334516=final[final[\"NAICS\"]==\"334516\"]"
      ],
      "metadata": {
        "id": "CuLVgsIV2P9v"
      },
      "execution_count": null,
      "outputs": []
    },
    {
      "cell_type": "code",
      "source": [
        "#diagonostic\n",
        "#final_325413\n",
        "#final_334517\n",
        "#analytics\n",
        "#final_334510\n",
        "#final_334516\n",
        "\n",
        "#manufature_diag_anlyt=final_325413+final_334517+final_334510+final_334516\n",
        "\n",
        "manufacture_diag_anlyt = pd.concat([final_325413, final_334517, final_334510, final_334516], axis=0)\n",
        "manufacture_diag_anlyt.to_csv('/drive/My Drive/Healthcare UROP/Smaller Class Data/tier1/manufacture_diag_anlyt.csv')\n"
      ],
      "metadata": {
        "id": "Crq1pWzG3O2V"
      },
      "execution_count": null,
      "outputs": []
    },
    {
      "cell_type": "markdown",
      "source": [
        "Mnaufaturing: equipment"
      ],
      "metadata": {
        "id": "IpP1irGS3X5M"
      }
    },
    {
      "cell_type": "code",
      "source": [
        "#surgical\n",
        "final_339112=final[final[\"NAICS\"]==\"339112\"]\n",
        "final_339113=final[final[\"NAICS\"]==\"339113\"]\n",
        "final_339114=final[final[\"NAICS\"]==\"339114\"]\n",
        "#opthalmology\n",
        "final_339115=final[final[\"NAICS\"]==\"339115\"]\n",
        "final_333314=final[final[\"NAICS\"]==\"333314\"]"
      ],
      "metadata": {
        "id": "bjlzLfxn3Wyg"
      },
      "execution_count": null,
      "outputs": []
    },
    {
      "cell_type": "code",
      "source": [
        "#surgical\n",
        "#final_339112\n",
        "#final_339113\n",
        "#final_339114\n",
        "#opthalmology\n",
        "#final_339115\n",
        "#final_333314\n",
        "\n",
        "#manufacture_eqpt=final_339112+final_339113+final_339114+final_339115+final_333314\n",
        "\n",
        "manufacture_eqpt = pd.concat([final_339112, final_339113, final_339114, final_339115, final_333314], axis=0)\n",
        "manufacture_eqpt.to_csv('/drive/My Drive/Healthcare UROP/Smaller Class Data/tier1/manufacture_eqpt.csv')"
      ],
      "metadata": {
        "id": "qCr51hYb4Shc"
      },
      "execution_count": null,
      "outputs": []
    },
    {
      "cell_type": "markdown",
      "source": [
        "Labotaries and research"
      ],
      "metadata": {
        "id": "LLXmHxYV4hbz"
      }
    },
    {
      "cell_type": "code",
      "source": [
        "#labs\n",
        "final_339116=final[final[\"NAICS\"]==\"339116\"]\n",
        "final_621511=final[final[\"NAICS\"]==\"621511\"]\n",
        "\n",
        "#research\n",
        "final_541714=final[final[\"NAICS\"]==\"541714\"]\n",
        "final_541715=final[final[\"NAICS\"]==\"541715\"]"
      ],
      "metadata": {
        "id": "ozwRjN4n4f0w"
      },
      "execution_count": null,
      "outputs": []
    },
    {
      "cell_type": "code",
      "source": [
        "#lab_rsrch=final_339116+final_621511+final_541714+final_541715\n",
        "lab_rsrch = pd.concat([final_339116, final_621511, final_541714, final_541715], axis=0)\n",
        "lab_rsrch.to_csv('/drive/My Drive/Healthcare UROP/Smaller Class Data/tier1/lab_rsrch.csv')"
      ],
      "metadata": {
        "id": "RWNS7K-j5Nhd"
      },
      "execution_count": null,
      "outputs": []
    },
    {
      "cell_type": "markdown",
      "source": [
        "Tier 2 "
      ],
      "metadata": {
        "id": "cTZeekMA57Lx"
      }
    },
    {
      "cell_type": "markdown",
      "source": [
        "wholesalers"
      ],
      "metadata": {
        "id": "81V8pdXM59qE"
      }
    },
    {
      "cell_type": "code",
      "source": [
        "final_423450=final[final[\"NAICS\"]==\"423450\"]\n",
        "final_423460=final[final[\"NAICS\"]==\"423460\"]\n",
        "final_424210=final[final[\"NAICS\"]==\"424210\"]"
      ],
      "metadata": {
        "id": "RDJm0L896Bg8"
      },
      "execution_count": null,
      "outputs": []
    },
    {
      "cell_type": "code",
      "source": [
        "#wholesalers=final_423450+final_423460+final_424210\n",
        "wholesalers = pd.concat([final_423450, final_423460, final_424210], axis=0)\n",
        "wholesalers"
      ],
      "metadata": {
        "id": "9jUbmFnd6Z0F"
      },
      "execution_count": null,
      "outputs": []
    },
    {
      "cell_type": "markdown",
      "source": [
        "stores"
      ],
      "metadata": {
        "id": "t8RoNMHx6W50"
      }
    },
    {
      "cell_type": "code",
      "source": [
        "final_446110=final[final[\"NAICS\"]==\"446110\"]\n",
        "final_446130=final[final[\"NAICS\"]==\"446130\"]"
      ],
      "metadata": {
        "id": "gYJmYY496Y84"
      },
      "execution_count": null,
      "outputs": []
    },
    {
      "cell_type": "code",
      "source": [
        "#stores=final_446110+final_446130\n",
        "stores = pd.concat([final_446110, final_446130], axis=0)\n",
        "stores"
      ],
      "metadata": {
        "id": "o2iDsZG96yj0"
      },
      "execution_count": null,
      "outputs": []
    },
    {
      "cell_type": "markdown",
      "source": [
        "rental"
      ],
      "metadata": {
        "id": "vvKX8MuG658N"
      }
    },
    {
      "cell_type": "code",
      "source": [
        "final_532283=final[final[\"NAICS\"]==\"532283\"]"
      ],
      "metadata": {
        "id": "VY-vbblr68jh"
      },
      "execution_count": null,
      "outputs": []
    },
    {
      "cell_type": "code",
      "source": [
        "final_532283"
      ],
      "metadata": {
        "id": "2WeBFgLC7E9h"
      },
      "execution_count": null,
      "outputs": []
    },
    {
      "cell_type": "markdown",
      "source": [
        "sum"
      ],
      "metadata": {
        "id": "4VZ1Qm1EJhzn"
      }
    },
    {
      "cell_type": "code",
      "source": [
        "#wholesalers+stores+final_532283\n",
        "sum_data = pd.concat([wholesalers, stores, final_532283], axis=0)\n",
        "sum_data"
      ],
      "metadata": {
        "id": "2-hL44-kJglb"
      },
      "execution_count": null,
      "outputs": []
    },
    {
      "cell_type": "markdown",
      "source": [
        "Tier 3"
      ],
      "metadata": {
        "id": "G5Pt1Uk27M2Z"
      }
    },
    {
      "cell_type": "markdown",
      "source": [
        "insurance"
      ],
      "metadata": {
        "id": "YLuamoFu0JVx"
      }
    },
    {
      "cell_type": "code",
      "source": [
        "final_naics_ins=[\"524113\",\"524113\\n524126\",\"524114\",\"524114\\n525190\", \"524126\\n525190\",\"524127\",\"524210\",\"524298\"]\n",
        "final_insurance_append=[]\n",
        "for x in final_naics_ins: \n",
        "  final_insurance_append.append(final[final[\"NAICS\"]==x])\n",
        "insurance=pd.concat(final_insurance_append, axis=0)\n",
        "insurance\n"
      ],
      "metadata": {
        "id": "HvyX1eCCz19e"
      },
      "execution_count": null,
      "outputs": []
    },
    {
      "cell_type": "markdown",
      "source": [
        "office and hospital"
      ],
      "metadata": {
        "id": "P9pTrsTDYczF"
      }
    },
    {
      "cell_type": "code",
      "source": [
        "final_naics_off=[\"621111\", \"621111\\n621112\", \"621210\", \"621310\", \"621320\", \"621330\", \"621391\", \"621399\", \n",
        "\"621492\", \"621498\", \"621610\", \"621999\", \"622110\", \"622210\", \"623110\", \"623311\", \"624120\"]\n",
        "final_office_append=[]\n",
        "for x in final_naics_off: \n",
        "  final_office_append.append(final[final[\"NAICS\"]==x])\n",
        "office=pd.concat(final_office_append, axis=0)\n",
        "office\n",
        "\n"
      ],
      "metadata": {
        "id": "-rma7vVi4AjI"
      },
      "execution_count": null,
      "outputs": []
    },
    {
      "cell_type": "markdown",
      "source": [
        "Last Financing Deal Type"
      ],
      "metadata": {
        "id": "fyDmrub09t0w"
      }
    },
    {
      "cell_type": "code",
      "source": [
        "final_name=final[\"Company_name\"]\n",
        "final_name.to_csv(\"/drive/My Drive/Healthcare UROP/Fall 2022/1.csv\")\n"
      ],
      "metadata": {
        "id": "wcPnNn4UoFIC"
      },
      "execution_count": null,
      "outputs": []
    },
    {
      "cell_type": "code",
      "source": [
        "final.columns"
      ],
      "metadata": {
        "id": "SIrLVGrI_Ztw"
      },
      "execution_count": null,
      "outputs": []
    },
    {
      "cell_type": "markdown",
      "source": [
        "Visualization \n",
        "1. years \n",
        "2. instruments: series A-F, early stage, other stages, IPO \n",
        "3. bad, good, okay categorization \n",
        "4. PE-backed or VC-backed "
      ],
      "metadata": {
        "id": "mUcoHF2PaC43"
      }
    },
    {
      "cell_type": "markdown",
      "source": [
        "First financing deal type "
      ],
      "metadata": {
        "id": "nKEI_MOVP4BX"
      }
    },
    {
      "cell_type": "code",
      "source": [
        "final_na=final[~final['first financing deal type'].isna()]\n",
        "final_na.shape #(1477, 91)\n",
        "\n",
        "final_na_2=final[~final['first financing deal type 2'].isna()]\n",
        "final_na_2.shape #(622, 91)\n",
        "final_na_2=final[~final['year founded'].isna()]"
      ],
      "metadata": {
        "id": "cAm2AvLy_HyU"
      },
      "execution_count": null,
      "outputs": []
    },
    {
      "cell_type": "code",
      "source": [
        "final_na=final[~final['first financing deal type'].isna()]\n",
        "#bad_category_type_first=['Asset Divestiture (Corporate)','Convertible Debt' , 'Debt', 'Debt - General','Debt - PPP', 'Out of Business', \"Bankruptcy\"]\n",
        "bad_category_type2_first=['Asset Acquisition', 'Corporate', 'Corporate Divestiture', 'Management Buy-In', 'Management Buyout', 'Recapitalization']\n",
        "\n",
        "\n",
        "\n",
        "#bad_category_type_first=['Accelerator/Incubator','Angel (individual)', 'Early Stage VC'\n",
        "#,'Grant', 'Later Stage VC', 'IPO', 'Joint Venture', 'Merger/Acquisition'\n",
        "#, 'PE Growth/Expansion', 'Seed Round', 'Buyout/LBO', 'Corporate']\n",
        "\n",
        "#bad_category_type_first=['Accelerator/Incubator','Angel (individual)', 'Early Stage VC'\n",
        "#,'Grant', 'Later Stage VC', 'IPO', 'PE Growth/Expansion', 'Seed Round', 'Corporate']\n",
        "\n",
        "\n",
        "#bad_category_type_first=['Early Stage VC','Later Stage VC', 'IPO', 'Seed Round']\n",
        "bad_category_type_first=['Later Stage VC', 'IPO']\n",
        "\n",
        "\n"
      ],
      "metadata": {
        "id": "Ji3CiAvONsv2"
      },
      "execution_count": null,
      "outputs": []
    },
    {
      "cell_type": "code",
      "source": [
        "bad_category_row_index=[]\n",
        "good_category_row_index=[]\n",
        "except_index=[]\n",
        "for n in range(final.shape[0]):\n",
        "  try:\n",
        "    if final_na.loc[n]['first financing deal type'] not in bad_category_type_first: \n",
        "      bad_category_row_index.append(n)\n",
        "    else:\n",
        "      good_category_row_index.append(n)\n",
        "  except KeyError:\n",
        "    except_index.append(n)\n",
        "\n"
      ],
      "metadata": {
        "id": "KEh0UrQPIFwg"
      },
      "execution_count": null,
      "outputs": []
    },
    {
      "cell_type": "code",
      "source": [
        "final_copy=final.copy(deep=True)\n",
        "final_copy.at[good_category_row_index,'first financing deal type']=1\n",
        "final_copy.at[bad_category_row_index,'first financing deal type']=0\n",
        "\n",
        "for n in range(final_copy.shape[0]):\n",
        "  n_item=final_copy.loc[n]['first financing deal type']\n",
        "  if n_item!=1: \n",
        "    if n_item!=0:  \n",
        "      if n_item in bad_category_type_first: \n",
        "        final_copy.at[n,'first financing deal type']=0\n",
        "      else: \n",
        "        final_copy.at[n,'first financing deal type']=1\n",
        "\n",
        "for n in range(final_copy.shape[0]):\n",
        "  n_item=final_copy.loc[n]['State_incorporation']\n",
        "  if n_item=='Delaware': \n",
        "    final_copy.at[n,'State_incorporation']=1\n",
        "  else: \n",
        "    final_copy.at[n,'State_incorporation']=0\n",
        "\n",
        "for n in range(final_copy.shape[0]):\n",
        "  n_item=final_copy.loc[n]['Type_entity']\n",
        "  if n_item=='Corporate': \n",
        "    final_copy.at[n,'Type_entity']=1\n",
        "  else: \n",
        "    final_copy.at[n,'Type_entity']=0\n",
        "\n",
        "\n",
        "for n in range(final_copy.shape[0]):\n",
        "  n_item=final_copy.loc[n]['Num of name']\n",
        "  if n_item>4: \n",
        "    final_copy.at[n,'Num of name']=1\n",
        "  else: \n",
        "    final_copy.at[n,'Num of name']=0\n",
        "\n",
        "y_exp=final_copy['first financing deal type']\n",
        "y_exp.to_csv('/drive/My Drive/Healthcare UROP/Fall 2022/y.csv')"
      ],
      "metadata": {
        "id": "vJLbePhAUaXo"
      },
      "execution_count": null,
      "outputs": []
    },
    {
      "cell_type": "markdown",
      "source": [
        "Modeling"
      ],
      "metadata": {
        "id": "CO4TEk9Q8Jmf"
      }
    },
    {
      "cell_type": "code",
      "source": [
        "new=pd.read_csv('/drive/My Drive/Healthcare UROP/Fall 2022/new.csv')"
      ],
      "metadata": {
        "id": "T4YEjhMndiVa"
      },
      "execution_count": null,
      "outputs": []
    },
    {
      "cell_type": "code",
      "source": [
        "X=new[['State_incorporation', 'Type_entity',\n",
        "'LOCAL', 'TRADED','five', 'ten', 'thirteen', 'twentythree', 'twentyfour',\n",
        "'thirty', 'oneothree', 'oneoseven',\n",
        "'onefourteen', 'Num of name','fame included']]\n",
        "y=new[['first financing deal type']]\n",
        "x_train,x_test,y_train,y_test=train_test_split(X,y,test_size=0.25) \n",
        "logreg = LogisticRegression()\n",
        "logreg.fit(x_train, y_train)\n",
        "y_pred = logreg.predict(x_test)\n",
        "print('Accuracy of logistic regression classifier on test set: {:.2f}'.format(logreg.score(x_test, y_test)))"
      ],
      "metadata": {
        "id": "4JRY6ySEz8uV",
        "colab": {
          "base_uri": "https://localhost:8080/"
        },
        "outputId": "8a8ed601-27ae-4f4b-8167-8aea91954a37"
      },
      "execution_count": null,
      "outputs": [
        {
          "output_type": "stream",
          "name": "stdout",
          "text": [
            "Accuracy of logistic regression classifier on test set: 0.90\n"
          ]
        },
        {
          "output_type": "stream",
          "name": "stderr",
          "text": [
            "/usr/local/lib/python3.7/dist-packages/sklearn/utils/validation.py:993: DataConversionWarning: A column-vector y was passed when a 1d array was expected. Please change the shape of y to (n_samples, ), for example using ravel().\n",
            "  y = column_or_1d(y, warn=True)\n"
          ]
        }
      ]
    },
    {
      "cell_type": "code",
      "source": [
        "import statsmodels.api as sm\n",
        "log_reg = sm.Logit(y_test, x_test).fit()\n",
        "log_reg.summary()"
      ],
      "metadata": {
        "id": "JuijKb7unYc5"
      },
      "execution_count": null,
      "outputs": []
    },
    {
      "cell_type": "code",
      "source": [
        "from sklearn.metrics import confusion_matrix\n",
        "confusion_matrix = confusion_matrix(y_test, y_pred)\n",
        "print(confusion_matrix)\n",
        "from sklearn.metrics import classification_report\n",
        "print(classification_report(y_test, y_pred))"
      ],
      "metadata": {
        "id": "eNoGDzlok0G-"
      },
      "execution_count": null,
      "outputs": []
    },
    {
      "cell_type": "code",
      "source": [
        "from sklearn.metrics import roc_auc_score\n",
        "from sklearn.metrics import roc_curve\n",
        "logit_roc_auc = roc_auc_score(y_test, logreg.predict(x_test))\n",
        "fpr, tpr, thresholds = roc_curve(y_test, logreg.predict_proba(x_test)[:,1])\n",
        "plt.figure()\n",
        "plt.plot(fpr, tpr, label='Logistic Regression (area = %0.2f)' % logit_roc_auc)\n",
        "plt.plot([0, 1], [0, 1],'r--')\n",
        "plt.xlim([0.0, 1.0])\n",
        "plt.ylim([0.0, 1.05])\n",
        "plt.xlabel('False Positive Rate')\n",
        "plt.ylabel('True Positive Rate')\n",
        "plt.title('Receiver operating characteristic')\n",
        "plt.legend(loc=\"lower right\")\n",
        "plt.savefig('Log_ROC')\n",
        "plt.show()"
      ],
      "metadata": {
        "colab": {
          "base_uri": "https://localhost:8080/",
          "height": 295
        },
        "id": "FHpBqgNKlKn6",
        "outputId": "3ade1b12-2b40-4320-b494-66f6da6c128d"
      },
      "execution_count": null,
      "outputs": [
        {
          "output_type": "display_data",
          "data": {
            "text/plain": [
              "<Figure size 432x288 with 1 Axes>"
            ],
            "image/png": "[encoded data removed]"
          },
          "metadata": {
            "needs_background": "light"
          }
        }
      ]
    },
    {
      "cell_type": "code",
      "source": [
        "coefficients = np.hstack((clf.intercept_, clf.coef_[0]))\n",
        "coefficients\n",
        "#pd.DataFrame(data={'variable': ['intercept'] + list(new.columns), 'coefficient': coefficients})"
      ],
      "metadata": {
        "colab": {
          "base_uri": "https://localhost:8080/"
        },
        "id": "kRK7qBz4jRWa",
        "outputId": "f5c4674e-6e94-4528-d4c3-6ea9bb935b81"
      },
      "execution_count": null,
      "outputs": [
        {
          "output_type": "execute_result",
          "data": {
            "text/plain": [
              "array([12.30394538,  1.86080035, -0.50430247, -4.28924119, -8.6041297 ,\n",
              "       -0.20566796, -0.20867282,  0.        , -0.31938038, -1.52520482,\n",
              "       -0.93646131, -1.52284657, -3.88589585,  0.        , -6.20733974,\n",
              "        0.        , -5.64164905,  7.5597476 ,  0.32465839, -0.54355783,\n",
              "       -0.54355783])"
            ]
          },
          "metadata": {},
          "execution_count": 48
        }
      ]
    },
    {
      "cell_type": "code",
      "source": [
        "clf = LogisticRegression(penalty='none')\n",
        "clf.fit(X, y)\n",
        "test_prob = clf.predict_proba(x_test)[:, 1]\n",
        "test_pred = clf.predict(x_test)\n",
        "test_pred"
      ],
      "metadata": {
        "id": "TmD1Y0yrgm-Y"
      },
      "execution_count": null,
      "outputs": []
    },
    {
      "cell_type": "code",
      "source": [
        "plot_roc_curve(clf, x_test, y_test)"
      ],
      "metadata": {
        "id": "PqMYHTTxevLU"
      },
      "execution_count": null,
      "outputs": []
    },
    {
      "cell_type": "code",
      "source": [
        "plot_precision_recall_curve(clf, x_test, y_test)"
      ],
      "metadata": {
        "id": "y27csP8ggLM4"
      },
      "execution_count": null,
      "outputs": []
    },
    {
      "cell_type": "code",
      "source": [
        "print('Log loss = {:.5f}'.format(log_loss(y_test, test_prob)))\n",
        "print('AUC = {:.5f}'.format(roc_auc_score(y_test, test_prob)))\n",
        "print('Average Precision = {:.5f}'.format(average_precision_score(y_test, test_prob)))\n",
        "print('\\nUsing 0.5 as threshold:')\n",
        "print('Accuracy = {:.5f}'.format(accuracy_score(y_test, test_pred)))\n",
        "print('Precision = {:.5f}'.format(precision_score(y_test, test_pred)))\n",
        "print('Recall = {:.5f}'.format(recall_score(y_test, test_pred)))\n",
        "print('F1 score = {:.5f}'.format(f1_score(y_test, test_pred)))\n",
        "\n",
        "print('\\nClassification Report')\n",
        "print(classification_report(y_test, test_pred))"
      ],
      "metadata": {
        "colab": {
          "base_uri": "https://localhost:8080/"
        },
        "id": "ARbGE6lQgh3Q",
        "outputId": "3a8a96a7-2e72-45e6-ada6-1e919e69f244"
      },
      "execution_count": null,
      "outputs": [
        {
          "output_type": "stream",
          "name": "stdout",
          "text": [
            "Log loss = 0.31313\n",
            "AUC = 0.75056\n",
            "Average Precision = 0.95223\n",
            "\n",
            "Using 0.5 as threshold:\n",
            "Accuracy = 0.88650\n",
            "Precision = 0.88627\n",
            "Recall = 1.00000\n",
            "F1 score = 0.93971\n",
            "\n",
            "Classification Report\n",
            "              precision    recall  f1-score   support\n",
            "\n",
            "           0       1.00      0.02      0.03        59\n",
            "           1       0.89      1.00      0.94       452\n",
            "\n",
            "    accuracy                           0.89       511\n",
            "   macro avg       0.94      0.51      0.49       511\n",
            "weighted avg       0.90      0.89      0.84       511\n",
            "\n"
          ]
        }
      ]
    },
    {
      "cell_type": "markdown",
      "source": [
        "Categorization by definition"
      ],
      "metadata": {
        "id": "1lkBc6lYYBMc"
      }
    },
    {
      "cell_type": "code",
      "source": [
        "###########################\n",
        "first financing deal type \n",
        "###########################\n",
        "\n",
        "(1)okay\n",
        "'Accelerator/Incubator'\n",
        "'Angel (individual)'\n",
        "'Early Stage VC'\n",
        "'Grant'\n",
        "'Later Stage VC'\n",
        "\n",
        "'IPO'\n",
        "'Merger of Equals' \n",
        "'Joint Venture'\n",
        "'Merger/Acquisition'\n",
        "'PE Growth/Expansion'\n",
        "\n",
        "'PIPE'\n",
        "'Platform Creation'\n",
        "'Reverse Merger'\n",
        "'Seed Round'\n",
        "'Spin-Off'\n",
        "\n",
        "(2)bad\n",
        "'Asset Divestiture (Corporate)'\n",
        "'Convertible Debt' \n",
        "'Debt - General'\n",
        "'Debt - PPP'\n",
        "'Out of Business'\n",
        "\n",
        "(3) uncetain \n",
        "'Buyout/LBO'\n",
        "'Capitalization'\n",
        "\n",
        "'Corporate'\n",
        "'Corporate Asset Purchase'\n",
        "'Undetermined'\n",
        "\n",
        "(4) not appeared in list for last financing deal type \n",
        "1. good \n",
        "'Spin-Off'\n",
        "2. bad \n",
        "'Asset Divestiture (Corporate)'\n",
        "3. uncertain \n",
        "'Mezzanine'\n",
        "\n"
      ],
      "metadata": {
        "id": "oO5lf5BRvoYX"
      },
      "execution_count": null,
      "outputs": []
    },
    {
      "cell_type": "code",
      "source": [
        "###########################\n",
        "first financing deal type 2\n",
        "###########################\n",
        "(1) good \n",
        "'Acquisition Financing'\n",
        "'Angel (individual)'\n",
        "'Seed Round'\n",
        "'Series 1'\n",
        "'Series A'\n",
        "'Series A1'\n",
        "'Series A2'\n",
        "'Series AA'\n",
        "'Series B'\n",
        "'Series B2'\n",
        "'Series C'\n",
        "'Series F'\n",
        "'Spin-Off'\n",
        "\n",
        "(2) uncertain \n",
        "'Add-on'\n",
        "'Corporate'\n",
        "\n",
        "\n",
        "(3) bad \n",
        "'Asset Acquisition'\n",
        "'Corporate Divestiture'\n",
        "'Management Buy-In'\n",
        "'Management Buyout'\n",
        "'Recapitalization' (recapitalization might be a great thing becasse they need to redistribute different types of equity and debt)\n"
      ],
      "metadata": {
        "id": "T5zMSF7HG_3l"
      },
      "execution_count": null,
      "outputs": []
    },
    {
      "cell_type": "code",
      "source": [
        "list_f=list(final['first financing deal type 2'])\n",
        "us,cs=np.unique(list_f, return_counts=True)\n",
        "final_na_first_2=final[~final['first financing deal type 2'].isna()]\n",
        "### for when first financing deal type is not there in a dataset ### \n",
        "final_na_first_2[final_na_first_2['first financing deal type'].isna()].shape\n",
        "### for when last financing deal type is not there in a dataset ### \n",
        "final_na_first_2[final_na_first_2['last financing deal type'].isna()].shape\n"
      ],
      "metadata": {
        "id": "7Vln0omUDWg4"
      },
      "execution_count": null,
      "outputs": []
    },
    {
      "cell_type": "markdown",
      "source": [
        "Last financing deal type "
      ],
      "metadata": {
        "id": "wUED_zX6QFG4"
      }
    },
    {
      "cell_type": "code",
      "source": [
        "final_na=final[~final['last financing deal type'].isna()]"
      ],
      "metadata": {
        "id": "rOrTQ-3giGFN"
      },
      "execution_count": null,
      "outputs": []
    },
    {
      "cell_type": "code",
      "source": [
        "bad_category_type_last=['Accelerator/Incubator', 'Individual', 'Corporate Divestiture', 'Dividend Recapitalization'\n",
        ",'Out of Business','Bankruptcy: Admin/Reorg', 'Bankruptcy: Liquidation', \n",
        "'Debt', 'Debt - General', 'Debt - PPP', 'Debt Refinancing', 'Other', 'Undetermined']\n",
        "bad_category_type_last2=['Asset Acquisition', 'Corporate', 'Corporate Divestiture', 'Management Buy-In']\n",
        "\n"
      ],
      "metadata": {
        "id": "yiaoUIHpOyJk"
      },
      "execution_count": null,
      "outputs": []
    },
    {
      "cell_type": "markdown",
      "source": [
        "Categorization by definition\n"
      ],
      "metadata": {
        "id": "S_vf7BTbYOhm"
      }
    },
    {
      "cell_type": "code",
      "source": [
        "\n",
        "founding years within 15 years --> defined as startup in healthcare \n",
        "\n",
        "Considering multinomial logistic regression? \n",
        "\n",
        "###########################\n",
        "last financing deal type \n",
        "###########################\n",
        "\n",
        "Entry level \n",
        "(1)bad \n",
        "'Accelerator/Incubator', 'Individual'\n",
        "(2) uncertain \n",
        "'Angel (individual)', 'Grant'\n",
        "(3) good \n",
        "'Early Stage VC','Seed Round','Series A', 'Series B'\n",
        "\n",
        "Corporate \n",
        "(1) Good \n",
        "'Corporate'\n",
        "(2) Unceratain\n",
        "'Corporate Asset Purchase' \n",
        "(purchsse assets excluding ones with liability and risks, but more legal documents to deal with)\n",
        "(3) bad                                     \n",
        "'Corporate Divestiture' (redundancy/unefficiency which leads to cutting of the business)\n",
        "\n",
        "\n",
        "Investment strategy \n",
        "(1) uncertain \n",
        "'Buyout/LBO'\n",
        "#repackacginf plan: re-IPO through loans \n",
        "#split up plan:] dismantal business (quite bad)\n",
        "#portfolio plan: buying off competitor for synergy \n",
        "#savior plan: saving business by its management (consequence not as good as expected)\n",
        "'Investor Buyout by Management'\n",
        "#management better equipped to help the company grow\n",
        "#key exit strategies: \n",
        "#(1)large corproations: sell off unprofitable assets or no use \n",
        "#(2) private business owners retire \n",
        "\n",
        "(2) bad \n",
        "'Dividend Recapitalization'\n",
        "# takes on new debt in order to pay a special dividend to private investors or shareholders\n",
        "# not a great practice for firms themselves, but becoming good money making cows \n",
        "\n",
        "(3) good \n",
        "'Acquisition Financing'\n",
        "#big companies acquiring small company so that small company can reach economics of sacles  \n",
        "'Share Repurchase'\n",
        "#stock undervalues, so repurchse to increase stock values \n",
        "'Platform Creation'\n",
        "\n",
        "\n",
        "Collaboration \n",
        "(1)good\n",
        "'Merger of Equals'\n",
        "#help create synergies \n",
        "'Joint Venture'\n",
        "#partnership, common in local businesses look for global expansion \n",
        "'Reverse Merger'\n",
        "#famous xample such as dell \n",
        "\n",
        "\n",
        "Public Help \n",
        "(1) uncertain \n",
        "'Equity Crowdfunding'\n",
        "#more regulation but wider access to investors' poool \n",
        "'PIPE'\n",
        "#public investment by acrredited investors or institutions, with risk in diluded stock values \n",
        "'Secondary Transaction - Open Market'\n",
        "'Secondary Transaction - Private'\n",
        "\n",
        "Typical indicator of success of startups \n",
        "\n",
        "(1) good \n",
        "'IPO', 'Later Stage VC', 'Merger/Acquisition', 'PE Growth/Expansion', 'Series C', 'Series D', \n",
        "'Series E', 'Series F'\n",
        "\n",
        "(2) Uncertain \n",
        "'Private Equity'\n",
        "'Public Investment 2nd Offering'\n",
        "'Venture Capital'\n",
        "\n",
        "(3) bad \n",
        "'Out of Business'\n",
        "'Bankruptcy: Admin/Reorg'\n",
        "'Bankruptcy: Liquidation' \n",
        "'Debt'\n",
        "'Debt - General'\n",
        "'Debt - PPP'\n",
        "'Debt Refinancing'\n",
        "\n",
        "Other \n",
        "(1) uncertain/bad \n",
        "'Other','Undetermined'\n"
      ],
      "metadata": {
        "id": "DEPFpo8VNmdm"
      },
      "execution_count": null,
      "outputs": []
    },
    {
      "cell_type": "code",
      "source": [
        "###########################\n",
        "Last financing deal type 2\n",
        "\n",
        "\n",
        "    \n",
        "    'Public to Private',\n",
        "       'Secondary Buyout', \n",
        "###########################\n",
        "\n",
        "\n",
        "(1) good \n",
        "'Acquisition Financing'\n",
        "'Angel (individual)'\n",
        "'Seed Round'\n",
        "'Series 2'\n",
        "'Series A'\n",
        "'Series A1'\n",
        "'Series A2'\n",
        "'Series A3'\n",
        "'Series B' \n",
        "'Series B1'\n",
        "'Series C'\n",
        "'Series C1'\n",
        "'Series D'\n",
        "'Series E'\n",
        "'Series F'\n",
        "'Series G'\n",
        "\n",
        "(2) uncertain \n",
        "'Add-on'\n",
        "'Distressed Acquisition'\n",
        "\n",
        "\n",
        "(3) bad \n",
        "'Asset Acquisition'\n",
        "'Corporate'\n",
        "'Corporate Divestiture'\n",
        "'Management Buy-In'\n",
        "\n",
        "\n"
      ],
      "metadata": {
        "id": "XOZDoKYOVQt-"
      },
      "execution_count": null,
      "outputs": []
    },
    {
      "cell_type": "code",
      "source": [
        "list_f=list(final['Last financing deal type 2'])\n",
        "us,cs=np.unique(list_f, return_counts=True)\n",
        "final_na_first_2=final[~final['Last financing deal type 2'].isna()]\n",
        "### only available for when first financing deal type is not there in a dataset ### \n",
        "final_na_first_2[final_na_first_2['first financing deal type'].isna()].shape\n",
        "us\n"
      ],
      "metadata": {
        "colab": {
          "base_uri": "https://localhost:8080/"
        },
        "id": "DxpMmxo2J2xf",
        "outputId": "512e80bd-d38e-443b-9cf4-f93009b5684b"
      },
      "execution_count": null,
      "outputs": [
        {
          "output_type": "execute_result",
          "data": {
            "text/plain": [
              "array(['Acquisition Financing', 'Add-on', 'Angel (individual)',\n",
              "       'Asset Acquisition', 'Corporate', 'Corporate Divestiture',\n",
              "       'Distressed Acquisition', 'Management Buy-In', 'Public to Private',\n",
              "       'Secondary Buyout', 'Seed Round', 'Series 2', 'Series A',\n",
              "       'Series A1', 'Series A2', 'Series A3', 'Series B', 'Series B1',\n",
              "       'Series C', 'Series C1', 'Series D', 'Series E', 'Series F',\n",
              "       'Series G', 'nan'], dtype='<U32')"
            ]
          },
          "metadata": {},
          "execution_count": 52
        }
      ]
    },
    {
      "cell_type": "markdown",
      "source": [
        "**Logistic Model Strategy**"
      ],
      "metadata": {
        "id": "d90wQC8QYdZa"
      }
    },
    {
      "cell_type": "code",
      "source": [
        "Y variables: \n",
        "\n",
        "logic: \n",
        "(1) reaching metric of success \n",
        "(2) reaching metric of success within 14 years \n",
        "(3) not reaching metric of failure\n",
        "(4) not reaching metric of failure within 14 years \n",
        "\n",
        "\n",
        "\n",
        "last: \n",
        "(1) after series c (c, d, e, f, g)\n",
        "(2) later stage VC\n",
        "(3) merger/acquisition\n",
        "(4) IPO\n",
        "(5) PE Growth/Expansion \n",
        "(6) merger of equals\n",
        "\n",
        "--> within 14 years ???\n",
        "\n",
        "Failed --> \n",
        "(1) Bankruptcy: Liquidation\n",
        "(2) Coprate divestiture\n",
        "(3) debt \n",
        "(4) debt - general \n",
        "\n",
        "--> probability of faiuire\n",
        "--> or firms without reaching these 4 situation within 14 years \n",
        "\n",
        "first: \n",
        "(1) debt\n",
        "(2) debt-general\n",
        "(3) debt - ppp already \n",
        "\n",
        "--> probability of failure\n",
        "\n"
      ],
      "metadata": {
        "id": "Vfa9QAeimjzQ"
      },
      "execution_count": null,
      "outputs": []
    },
    {
      "cell_type": "code",
      "source": [
        "x variables\n",
        "\n",
        "legal:\n",
        "type_entity (coporation)\n",
        "date incorporation \n",
        "state of incoporation (delaware) \n",
        "\n",
        "clustering: \n",
        "local \n",
        "traded \n",
        "industrial clusters (US Mapping Project)\n",
        "\n",
        "number of name (short name)\n",
        "specific word included in name \n",
        "directing manger's name included (eponymous)\n",
        "\n",
        "\n",
        "total patents \n",
        "\n"
      ],
      "metadata": {
        "id": "MGY7Uu2awQsN"
      },
      "execution_count": null,
      "outputs": []
    },
    {
      "cell_type": "markdown",
      "source": [
        "**Plan for model**\n"
      ],
      "metadata": {
        "id": "zKUpaPTAsaZp"
      }
    },
    {
      "cell_type": "code",
      "source": [
        "import statsmodels.api as sm \n",
        "from statsmodels.formula.api import logit"
      ],
      "metadata": {
        "id": "TlT7sp-Rp8da"
      },
      "execution_count": null,
      "outputs": []
    },
    {
      "cell_type": "code",
      "source": [
        "formula =(\"y_varaible~x1+x2+...\")\n",
        "model=logit(formula=formula, data=final).fit()"
      ],
      "metadata": {
        "id": "n7nVZNMJqDhg"
      },
      "execution_count": null,
      "outputs": []
    },
    {
      "cell_type": "markdown",
      "source": [
        "ideas:gridsearch, turn categorization into 1/0, data ajustment"
      ],
      "metadata": {
        "id": "wpdzS-iAsHs7"
      }
    }
  ],
  "metadata": {
    "colab": {
      "provenance": []
    },
    "kernelspec": {
      "display_name": "Python 3",
      "name": "python3"
    },
    "language_info": {
      "name": "python"
    }
  },
  "nbformat": 4,
  "nbformat_minor": 0
}